{
  "nbformat": 4,
  "nbformat_minor": 0,
  "metadata": {
    "colab": {
      "provenance": [],
      "authorship_tag": "ABX9TyPbwvdDrlEqdcXgYJuuRBQ2",
      "include_colab_link": true
    },
    "kernelspec": {
      "name": "python3",
      "display_name": "Python 3"
    },
    "language_info": {
      "name": "python"
    }
  },
  "cells": [
    {
      "cell_type": "markdown",
      "metadata": {
        "id": "view-in-github",
        "colab_type": "text"
      },
      "source": [
        "<a href=\"https://colab.research.google.com/github/praffuln/generative-ai/blob/master/rag/rag-1/rag_input_patterns.ipynb\" target=\"_parent\"><img src=\"https://colab.research.google.com/assets/colab-badge.svg\" alt=\"Open In Colab\"/></a>"
      ]
    },
    {
      "cell_type": "code",
      "execution_count": null,
      "metadata": {
        "colab": {
          "base_uri": "https://localhost:8080/"
        },
        "id": "IJK7SLf6nJkr",
        "outputId": "f2f2e142-732e-4ba2-d4ed-229e4ed53365"
      },
      "outputs": [
        {
          "output_type": "stream",
          "name": "stdout",
          "text": [
            "hello world!!\n"
          ]
        }
      ],
      "source": [
        "print('hello world!!')"
      ]
    },
    {
      "cell_type": "code",
      "source": [
        "!pip install streamlit google-generativeai python-dotenv langchain PyPDF2 chromadb faiss-cpu langchain_google_genai langchain-community"
      ],
      "metadata": {
        "id": "RQ2kachBn-dx"
      },
      "execution_count": null,
      "outputs": []
    },
    {
      "cell_type": "code",
      "source": [
        "# Assigning value to variable\n",
        "GOOGLE_API_KEY=''\n"
      ],
      "metadata": {
        "id": "dvFOprifTZNj"
      },
      "execution_count": 3,
      "outputs": []
    },
    {
      "cell_type": "code",
      "source": [
        "import streamlit as st\n",
        "from PyPDF2 import PdfReader\n",
        "from langchain.text_splitter import RecursiveCharacterTextSplitter\n",
        "import os\n",
        "from langchain_google_genai import GoogleGenerativeAIEmbeddings, ChatGoogleGenerativeAI\n",
        "from langchain_community.vectorstores import FAISS\n",
        "from langchain.chains.question_answering import load_qa_chain\n",
        "import google.generativeai as genai\n",
        "from langchain.prompts import PromptTemplate\n",
        "from dotenv import load_dotenv\n",
        "\n",
        "load_dotenv() # Loads .env file\n",
        "\n",
        "genai.configure(api_key=os.getenv(\"GOOGLE_API_KEY\")) # Loads API key\n"
      ],
      "metadata": {
        "id": "18aZAuStTcan"
      },
      "execution_count": 4,
      "outputs": []
    },
    {
      "cell_type": "code",
      "source": [
        "def get_pdf_text(pdf_docs):\n",
        "    text = \" \"\n",
        "    # Iterate through each PDF document path in the list\n",
        "    for pdf in pdf_docs:\n",
        "        # Create a PdfReader object for the current PDF document\n",
        "        pdf_reader = PdfReader(pdf)\n",
        "        # Iterate through each page in the PDF document\n",
        "        for page in pdf_reader.pages:\n",
        "            # Extract text from the current page and append it to the 'text' string\n",
        "            text += page.extract_text()\n",
        "\n",
        "    # Return the concatenated text from all PDF documents\n",
        "    return text\n"
      ],
      "metadata": {
        "id": "cqrr2AupTkmM"
      },
      "execution_count": 5,
      "outputs": []
    },
    {
      "cell_type": "code",
      "source": [
        "# The RecursiveCharacterTextSplitter takes a large text and splits it based on a specified chunk size.\n",
        "def get_chunks(text):\n",
        "    text_splitter = RecursiveCharacterTextSplitter(chunk_size=10000, chunk_overlap=1000)\n",
        "    chunks = text_splitter.split_text(text)\n",
        "    return chunks\n"
      ],
      "metadata": {
        "id": "_la7mxVCTq3O"
      },
      "execution_count": 6,
      "outputs": []
    },
    {
      "cell_type": "code",
      "source": [
        "def get_vector_store(text_chunks):\n",
        "    # Create embeddings using a Google Generative AI model\n",
        "    embeddings = GoogleGenerativeAIEmbeddings(model=\"models/embedding-001\")\n",
        "\n",
        "    # Create a vector store using FAISS from the provided text chunks and embeddings\n",
        "    vector_store = FAISS.from_texts(text_chunks, embedding=embeddings)\n",
        "\n",
        "    # Save the vector store locally with the name \"faiss_index\"\n",
        "    vector_store.save_local(\"faiss_index\")"
      ],
      "metadata": {
        "id": "MYCZJ7KVTvX1"
      },
      "execution_count": 7,
      "outputs": []
    },
    {
      "cell_type": "code",
      "source": [
        "def get_conversational_chain():\n",
        "    # Define a prompt template for asking questions based on a given context\n",
        "    prompt_template = \"\"\"\n",
        "    Answer the question as detailed as possible from the provided context, make sure to provide all the details,\n",
        "    if the answer is not in the provided context just say, \"answer is not available in the context\", don't provide the wrong answer\\n\\n\n",
        "    Context:\\n {context}?\\n\n",
        "    Question: \\n{question}\\n\n",
        "\n",
        "    Answer:\n",
        "    \"\"\"\n",
        "\n",
        "    # Initialize a ChatGoogleGenerativeAI model for conversational AI\n",
        "    model = ChatGoogleGenerativeAI(model=\"gemini-pro\", temperature=0.3)\n",
        "\n",
        "    # Create a prompt template with input variables \"context\" and \"question\"\n",
        "    prompt = PromptTemplate(\n",
        "        template=prompt_template, input_variables=[\"context\", \"question\"]\n",
        "    )\n",
        "\n",
        "    # Load a question-answering chain with the specified model and prompt\n",
        "    chain = load_qa_chain(model, chain_type=\"stuff\", prompt=prompt)\n",
        "\n",
        "    return chain\n"
      ],
      "metadata": {
        "id": "OuIxLoAeTzUa"
      },
      "execution_count": 8,
      "outputs": []
    },
    {
      "cell_type": "code",
      "source": [
        "def user_input(user_question):\n",
        "    # Create embeddings for the user question using a Google Generative AI model\n",
        "    embeddings = GoogleGenerativeAIEmbeddings(model=\"models/embedding-001\")\n",
        "\n",
        "    # Load a FAISS vector database from a local file\n",
        "    new_db = FAISS.load_local(\"faiss_index\", embeddings)\n",
        "\n",
        "    # Perform similarity search in the vector database based on the user question\n",
        "    docs = new_db.similarity_search(user_question)\n",
        "\n",
        "    # Obtain a conversational question-answering chain\n",
        "    chain = get_conversational_chain()\n",
        "\n",
        "    # Use the conversational chain to get a response based on the user question and retrieved documents\n",
        "    response = chain(\n",
        "        {\"input_documents\": docs, \"question\": user_question}, return_only_outputs=True\n",
        "    )\n",
        "\n",
        "    # Print the response to the console\n",
        "    print(response)\n",
        "\n",
        "    # Display the response in a Streamlit app (assuming 'st' is a Streamlit module)\n",
        "    st.write(\"Reply: \", response[\"output_text\"])\n"
      ],
      "metadata": {
        "id": "PPY3tZf3T6L_"
      },
      "execution_count": 9,
      "outputs": []
    },
    {
      "cell_type": "code",
      "source": [
        "def main():\n",
        "    st.set_page_config(\"Chat PDF\")\n",
        "    st.header(\"Chat with PDF using Gemini\")\n",
        "\n",
        "    user_question = st.text_input(\"Ask a Question from the PDF Files\")\n",
        "\n",
        "    if user_question:\n",
        "        user_input(user_question)\n",
        "\n",
        "    with st.sidebar:\n",
        "        st.title(\"Menu:\")\n",
        "        pdf_docs = st.file_uploader(\n",
        "            \"Upload your PDF Files and Click on the Submit & Process Button\",\n",
        "            accept_multiple_files=True,\n",
        "        )\n",
        "        if st.button(\"Submit & Process\"):\n",
        "            with st.spinner(\"Processing...\"):\n",
        "                raw_text = get_pdf_text(pdf_docs)\n",
        "                text_chunks = get_chunks(raw_text)\n",
        "                get_vector_store(text_chunks)\n",
        "                st.success(\"Done\")\n",
        "\n",
        "\n",
        "if __name__ == \"__main__\":\n",
        "    main()\n"
      ],
      "metadata": {
        "colab": {
          "base_uri": "https://localhost:8080/"
        },
        "id": "Lg1ZdmFcT7zN",
        "outputId": "c405d888-7a42-4873-89b0-ce943a753dc6"
      },
      "execution_count": 10,
      "outputs": [
        {
          "output_type": "stream",
          "name": "stderr",
          "text": [
            "2024-08-03 12:56:24.059 \n",
            "  \u001b[33m\u001b[1mWarning:\u001b[0m to view this Streamlit app on a browser, run it with the following\n",
            "  command:\n",
            "\n",
            "    streamlit run /usr/local/lib/python3.10/dist-packages/colab_kernel_launcher.py [ARGUMENTS]\n",
            "2024-08-03 12:56:24.061 Session state does not function when running a script without `streamlit run`\n"
          ]
        }
      ]
    }
  ]
}