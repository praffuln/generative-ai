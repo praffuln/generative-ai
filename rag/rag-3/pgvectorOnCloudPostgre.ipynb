{
  "nbformat": 4,
  "nbformat_minor": 0,
  "metadata": {
    "colab": {
      "provenance": [],
      "authorship_tag": "ABX9TyPnOBJ559o1YzpYyK6cC/L3",
      "include_colab_link": true
    },
    "kernelspec": {
      "name": "python3",
      "display_name": "Python 3"
    },
    "language_info": {
      "name": "python"
    }
  },
  "cells": [
    {
      "cell_type": "markdown",
      "metadata": {
        "id": "view-in-github",
        "colab_type": "text"
      },
      "source": [
        "<a href=\"https://colab.research.google.com/github/praffuln/generative-ai/blob/master/rag%5Crag-3%5CpgvectorOnCloudPostgre.ipynb\" target=\"_parent\"><img src=\"https://colab.research.google.com/assets/colab-badge.svg\" alt=\"Open In Colab\"/></a>"
      ]
    },
    {
      "cell_type": "code",
      "execution_count": 14,
      "metadata": {
        "colab": {
          "base_uri": "https://localhost:8080/"
        },
        "id": "iRLUxmnZHGNA",
        "outputId": "dd5a1d47-6eb8-4606-e48b-91c65ecb61cc"
      },
      "outputs": [
        {
          "output_type": "stream",
          "name": "stdout",
          "text": [
            "<connection object at 0x79a131a920c0; dsn: 'user=avnadmin password=xxx dbname=pgvector-try host=pgvector-prafful-476f.h.aivencloud.com port=23891 sslmode=require sslrootcert=my_cert.pem', closed: 0>\n"
          ]
        }
      ],
      "source": [
        "import psycopg2\n",
        "\n",
        "# Replace with your actual connection details\n",
        "postgres_conn_string = \"\"\n",
        "\n",
        "# Connect to the PostgreSQL database\n",
        "conn = psycopg2.connect(postgres_conn_string)\n",
        "\n",
        "# Create a cursor object to interact with the database\n",
        "cur = conn.cursor()\n",
        "# Assuming your SSL certificate is in a string variable called 'ssl_cert'\n",
        "ssl_cert = \"\"\"-----BEGIN CERTIFICATE-----\n",
        "MIIEQTCCAqmgAwIBAgIUdul4yiz2tYFKmh7DpcSfIiYRBOcwDQYJKoZIhvcNAQEM\n",
        "BQAwOjE4MDYGA1UEAwwvZmViZGRiOGEtYzVjYi00OGU0LThiYzYtY2E0NThiMGJl\n",
        "Y2E3IFByb2plY3QgQ0EwHhcNMjQwOTE5MTEyOTAyWhcNMzQwOTE3MTEyOTAyWjA6\n",
        "MTgwNgYDVQQDDC9mZWJkZGI4YS1jNWNiLTQ4ZTQtOGJjNi1jYTQ1OGIwYmVjYTcg\n",
        "UHJvamVjdCBDQTCCAaIwDQYJKoZIhvcNAQEBBQADggGPADCCAYoCggGBALcMOW6s\n",
        "1U5a7zkf0gjwNxujjnRXztHi3U/pkg20/JvDjXv+aMmHeZdsPfrNwhkxeveY+ybT\n",
        "DJ1+SrrK3/duzQmbnFcK41iVKFxMkQjt+ShW6cESnwzrHZUIOflJLnYvgwa3r89+\n",
        "f6ekTCYzk/Va4zCE67GuCD87LXv6n/VlnvWBd4H0wA2y8RtBiEu/SWUVALLnz0we\n",
        "Frrr8fw7QMU24fH2uKiLmsGCntbIcDSxcbd4b7ipSYST2ujiW8kNbBzNTOX0yTL+\n",
        "7aKwl2gghEzx/yzUpSK/9ugoEIhZ2SvNEV+a5JwKBcRDmMIOd2+Kh4UQt+CEMzav\n",
        "YUzVQKibakAOGqx47t6cuJP267hiznZWHMd094LnZP0XY/LP9AUxOVqZwEr2woCp\n",
        "JSlRfWHIeHLn0e7SjOaSdRlgm+CnjqZKyHqVc+ijti+pqgEN3vscsepZYuvZnZQc\n",
        "u/1kBsviFPs3kHO+hlo7UU8+EWPTQGgk/kcCc59z+tQrG6ZjroXTH2quewIDAQAB\n",
        "oz8wPTAdBgNVHQ4EFgQU+YsLRR6kIPwuEtExVLa5z7AlxkAwDwYDVR0TBAgwBgEB\n",
        "/wIBADALBgNVHQ8EBAMCAQYwDQYJKoZIhvcNAQEMBQADggGBAEuXlFt43sG3nj8b\n",
        "yYLa/6enWKB16MF28erxX/KQ3J6pd/+lAGXYOTcbLwUyDcEh2ZwoA+hxnBzpYN6A\n",
        "qZNYD+lOz+vB2ZczHYzrbY9drY85X04i/atAkz3m/TLCtLTSEHpYV675RBeFb06x\n",
        "VFa85pJ6vbP7e++aJZTyBBVPso9Xm+idgP66UjbU36Z4+YwFaWnTloULnlKIOymZ\n",
        "MjfSLZCMuuUCvewPa2w8Yb6S66F8be3cgHLTvux2OL/Es7fIef/ik8FZMmfAGjlh\n",
        "3m9DD+r/5GrVGl5zMmTZzh8T563MilCttZiF+UyS/LicWihk46mcUvn7uGQxv+Ne\n",
        "5LfIhIIo2gNp0FDuojGtz+HMgZT+WBTdcrAjyp35E0gVhsV8tWJSckxKb+bFOtvf\n",
        "FsKQeRlp7o4ac31LVX26wogoF8Jni6RmLfEA27ZOt8p1vK8zUtKyOoirIxm2aea4\n",
        "LIkQgzER19flXz19vR6yabHf7GB3G4mXQlDzRe4730UIZavnew==\n",
        "-----END CERTIFICATE-----\"\"\"\n",
        "\n",
        "# Create a temporary file to store the certificate\n",
        "with open(\"my_cert.pem\", \"w\") as f:\n",
        "    f.write(ssl_cert)\n",
        "\n",
        "# Establish the connection with the certificate path\n",
        "conn = psycopg2.connect(postgres_conn_string, sslrootcert=\"my_cert.pem\")\n",
        "\n",
        "print(conn)\n",
        "\n",
        "# ... your database operations ...\n",
        "\n",
        "\n",
        "\n"
      ]
    },
    {
      "cell_type": "code",
      "source": [
        "# prompt: Create table in the above database using python\n",
        "\n",
        "cur = conn.cursor()\n",
        "\n",
        "# Create the table\n",
        "create_table_query = \"\"\"\n",
        "CREATE TABLE IF NOT EXISTS test1 (\n",
        "    id SERIAL PRIMARY KEY,\n",
        "    name VARCHAR(255),\n",
        "    age INTEGER\n",
        ");\n",
        "\"\"\"\n",
        "\n",
        "cur.execute(create_table_query)\n",
        "conn.commit()\n",
        "\n",
        "print(\"Table created successfully!\")\n",
        "\n",
        "cur.close()\n"
      ],
      "metadata": {
        "colab": {
          "base_uri": "https://localhost:8080/"
        },
        "id": "Yri40gpzIUoS",
        "outputId": "4c046010-deaf-49cb-bfc7-662aa45d7a96"
      },
      "execution_count": 15,
      "outputs": [
        {
          "output_type": "stream",
          "name": "stdout",
          "text": [
            "Table created successfully!\n"
          ]
        }
      ]
    },
    {
      "cell_type": "code",
      "source": [
        "# prompt: insert 2 rows in the created table\n",
        "\n",
        "cur = conn.cursor()\n",
        "\n",
        "# Insert two rows into the table\n",
        "insert_query = \"\"\"\n",
        "INSERT INTO test1 (name, age) VALUES (%s, %s);\n",
        "\"\"\"\n",
        "\n",
        "data = [\n",
        "    (\"Alice\", 30),\n",
        "    (\"Bob\", 25)\n",
        "]\n",
        "\n",
        "for row in data:\n",
        "  cur.execute(insert_query, row)\n",
        "\n",
        "conn.commit()\n",
        "\n",
        "print(\"Data inserted successfully!\")\n",
        "\n",
        "cur.close()\n"
      ],
      "metadata": {
        "colab": {
          "base_uri": "https://localhost:8080/"
        },
        "id": "leLRdJzTJJvt",
        "outputId": "e34608ea-08e8-42c2-b64e-43ccd664b4eb"
      },
      "execution_count": 16,
      "outputs": [
        {
          "output_type": "stream",
          "name": "stdout",
          "text": [
            "Data inserted successfully!\n"
          ]
        }
      ]
    },
    {
      "cell_type": "code",
      "source": [
        "# prompt: select inserted row in the above code\n",
        "\n",
        "cur = conn.cursor()\n",
        "\n",
        "select_query = \"SELECT * FROM test1;\"\n",
        "\n",
        "cur.execute(select_query)\n",
        "\n",
        "rows = cur.fetchall()\n",
        "\n",
        "for row in rows:\n",
        "  print(row)\n",
        "\n",
        "cur.close()\n"
      ],
      "metadata": {
        "colab": {
          "base_uri": "https://localhost:8080/"
        },
        "id": "BhYopNAUJRfJ",
        "outputId": "1115cfe5-43af-4c85-b746-5754d6ff7dd0"
      },
      "execution_count": 17,
      "outputs": [
        {
          "output_type": "stream",
          "name": "stdout",
          "text": [
            "(1, 'Alice', 30)\n",
            "(2, 'Bob', 25)\n",
            "(3, 'Alice', 30)\n",
            "(4, 'Bob', 25)\n"
          ]
        }
      ]
    },
    {
      "cell_type": "code",
      "source": [
        "# Create extension pgvector in database\n",
        "\n",
        "cur = conn.cursor()\n",
        "\n",
        "# Create the extension [CREATE EXTENSION vector;]\n",
        "create_extension_query = \"CREATE EXTENSION IF NOT EXISTS vector;\"\n",
        "\n",
        "cur.execute(create_extension_query)\n",
        "conn.commit()\n",
        "\n",
        "print(\"pgvector extension created successfully!\")\n",
        "\n",
        "cur.close()\n"
      ],
      "metadata": {
        "colab": {
          "base_uri": "https://localhost:8080/"
        },
        "id": "km6l53VgJ13x",
        "outputId": "dc2096d4-f6b5-475c-99fb-6cd6e3d3146b"
      },
      "execution_count": 18,
      "outputs": [
        {
          "output_type": "stream",
          "name": "stdout",
          "text": [
            "pgvector extension created successfully!\n"
          ]
        }
      ]
    },
    {
      "cell_type": "code",
      "source": [
        "conn.close()\n",
        "\n",
        "\n",
        "# Remove the temporary certificate file\n",
        "!rm my_cert.pem"
      ],
      "metadata": {
        "id": "FQwKgEpFIhl1"
      },
      "execution_count": null,
      "outputs": []
    }
  ]
}
