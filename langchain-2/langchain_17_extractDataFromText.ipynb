{
  "nbformat": 4,
  "nbformat_minor": 0,
  "metadata": {
    "colab": {
      "provenance": [],
      "authorship_tag": "ABX9TyOyYKZRueV6uVDVUSESBGd3",
      "include_colab_link": true
    },
    "kernelspec": {
      "name": "python3",
      "display_name": "Python 3"
    },
    "language_info": {
      "name": "python"
    }
  },
  "cells": [
    {
      "cell_type": "markdown",
      "metadata": {
        "id": "view-in-github",
        "colab_type": "text"
      },
      "source": [
        "<a href=\"https://colab.research.google.com/github/praffuln/langchain/blob/master/langchain-2/langchain_17_extractDataFromText.ipynb\" target=\"_parent\"><img src=\"https://colab.research.google.com/assets/colab-badge.svg\" alt=\"Open In Colab\"/></a>"
      ]
    },
    {
      "cell_type": "code",
      "execution_count": null,
      "metadata": {
        "id": "TcLFhm1g10hu"
      },
      "outputs": [],
      "source": [
        "!pip install langchain\n",
        "!pip install openAI\n",
        "!pip install wikipedia\n",
        "!pip install huggingface_hub\n",
        "!pip install InstructorEmbedding\n",
        "!pip install google-search-results\n",
        "!pip install unstructured\n",
        "!pip install libmagic\n",
        "!pip install python-magic\n",
        "!pip install python-magic-bin\n",
        "#Install faiss Packages\n",
        "!pip install faiss-cpu\n",
        "!pip install sentence-transformers\n",
        "!pip install wolframalpha\n",
        "!pip install pypdf\n",
        "!pip install youtube-transcript-api\n",
        "!pip install pytube\n",
        "!pip install python-dotenv\n",
        "!pip install pinecone-client\n",
        "!pip install kor\n",
        "!pip install markdownify"
      ]
    },
    {
      "cell_type": "markdown",
      "source": [
        "# API"
      ],
      "metadata": {
        "id": "c67GeoptLNsA"
      }
    },
    {
      "cell_type": "code",
      "source": [
        "import os\n",
        "api_key = ''  # get this free api key from https://makersuite.google.com/\n"
      ],
      "metadata": {
        "id": "iTI8L6-19ygG"
      },
      "execution_count": 9,
      "outputs": []
    },
    {
      "cell_type": "markdown",
      "source": [
        "# Google Palm LLM\n"
      ],
      "metadata": {
        "id": "usqtWViMgvJ6"
      }
    },
    {
      "cell_type": "code",
      "source": [
        "# Load up LLM\n",
        "from langchain.llms import GooglePalm\n",
        "\n",
        "llm = GooglePalm(google_api_key=api_key, temperature=0.1)"
      ],
      "metadata": {
        "id": "B1sdUzs3gxpS"
      },
      "execution_count": 10,
      "outputs": []
    },
    {
      "cell_type": "code",
      "source": [
        "# test LLM setup\n",
        "poem = llm(\"Write a 4 line poem of my love for samosa\")\n",
        "\n",
        "print(poem)\n"
      ],
      "metadata": {
        "id": "mXO6dK5425aS"
      },
      "execution_count": null,
      "outputs": []
    },
    {
      "cell_type": "markdown",
      "source": [
        "## Extract Structured Data From Text: Expert Mode (Using Kor)\n",
        "\n",
        "For complicated data extraction you need a robust library. The Kor Library (created by Eugene Yurtsev) is an awesome tool just for this.\n",
        "\n",
        "We are going to explore using Kor with a practical use case.\n",
        "\n",
        "Why is this important? LLMs are great at text output, but they need extra help outputing information in a structure that we want. A common request from developers is to get JSON data back from our LLMs.\n",
        "\n",
        "Spoiler: Jump down to the bottom to see a bonefied business idea that you can start and manage today."
      ],
      "metadata": {
        "id": "xIqR3HuQ3Pul"
      }
    },
    {
      "cell_type": "code",
      "source": [
        "# Kor!\n",
        "from kor.extraction import create_extraction_chain\n",
        "from kor.nodes import Object, Text, Number\n",
        "\n",
        "# LangChain Models\n",
        "from langchain.chat_models import ChatOpenAI\n",
        "from langchain.llms import OpenAI\n",
        "\n",
        "# Standard Helpers\n",
        "import pandas as pd\n",
        "import requests\n",
        "import time\n",
        "import json\n",
        "from datetime import datetime\n",
        "\n",
        "# Text Helpers\n",
        "from bs4 import BeautifulSoup\n",
        "from markdownify import markdownify as md\n",
        "\n",
        "# For token counting\n",
        "from langchain.callbacks import get_openai_callback\n",
        "\n",
        "def printOutput(output):\n",
        "    print(json.dumps(output,sort_keys=True, indent=3))\n"
      ],
      "metadata": {
        "id": "6IA3vAUt3SE_"
      },
      "execution_count": 14,
      "outputs": []
    },
    {
      "cell_type": "markdown",
      "source": [
        "## Kor Hello World Example\n",
        "Create an object that holds information about the fields you'd like to extract\n",
        "\n"
      ],
      "metadata": {
        "id": "5xLPYONh-VcJ"
      }
    },
    {
      "cell_type": "code",
      "source": [
        "person_schema = Object(\n",
        "    # This what will appear in your output. It's what the fields below will be nested under.\n",
        "    # It should be the parent of the fields below. Usually it's singular (not plural)\n",
        "    id=\"person\",\n",
        "\n",
        "    # Natural language description about your object\n",
        "    description=\"Personal information about a person\",\n",
        "\n",
        "    # Fields you'd like to capture from a piece of text about your object.\n",
        "    attributes=[\n",
        "        Text(\n",
        "            id=\"first_name\",\n",
        "            description=\"The first name of a person.\",\n",
        "        )\n",
        "    ],\n",
        "\n",
        "    # Examples help go a long way with telling the LLM what you need\n",
        "    examples=[\n",
        "        (\"Alice and Bob are friends\", [{\"first_name\": \"Alice\"}, {\"first_name\": \"Bob\"}])\n",
        "    ]\n",
        ")\n"
      ],
      "metadata": {
        "id": "MYew8I3p-X8h"
      },
      "execution_count": 15,
      "outputs": []
    },
    {
      "cell_type": "markdown",
      "source": [
        "Create a chain that will extract the information and then parse it. This uses LangChain under the hood\n",
        "\n"
      ],
      "metadata": {
        "id": "AGghyUT1DfA5"
      }
    },
    {
      "cell_type": "code",
      "source": [
        "chain = create_extraction_chain(llm, person_schema)\n"
      ],
      "metadata": {
        "id": "cSkwSSIpDfsN"
      },
      "execution_count": 16,
      "outputs": []
    },
    {
      "cell_type": "code",
      "source": [
        "text = \"\"\"\n",
        "    My name is Bobby.\n",
        "    My sister's name is Rachel.\n",
        "    My brother's name Joe. My dog's name is Spot\n",
        "\"\"\"\n",
        "output = chain(text)\n",
        "print(output)\n",
        "output = chain(text)[\"text\"][\"data\"]\n",
        "print(\"***********extraction**************\")\n",
        "printOutput(output)\n"
      ],
      "metadata": {
        "colab": {
          "base_uri": "https://localhost:8080/",
          "height": 297
        },
        "id": "HZn33sZDDhmr",
        "outputId": "4fa01aa3-48e2-4a40-a334-3137e5545936"
      },
      "execution_count": 25,
      "outputs": [
        {
          "output_type": "stream",
          "name": "stdout",
          "text": [
            "{'text': {'data': {'person': [{'first_name': 'Bobby'}, {'first_name': 'Rachel'}, {'first_name': 'Joe'}]}, 'raw': 'first_name\\nBobby\\nRachel\\nJoe', 'errors': [], 'validated_data': {}}}\n",
            "***********extraction**************\n",
            "{\n",
            "   \"person\": [\n",
            "      {\n",
            "         \"first_name\": \"Bobby\"\n",
            "      },\n",
            "      {\n",
            "         \"first_name\": \"Rachel\"\n",
            "      },\n",
            "      {\n",
            "         \"first_name\": \"Joe\"\n",
            "      }\n",
            "   ]\n",
            "}\n"
          ]
        }
      ]
    },
    {
      "cell_type": "code",
      "source": [
        "output = chain(\"The dog went to the park\")\n",
        "printOutput(output[\"text\"][\"data\"])\n"
      ],
      "metadata": {
        "colab": {
          "base_uri": "https://localhost:8080/",
          "height": 69
        },
        "id": "Z9t2Ge1VIc3r",
        "outputId": "443c3c69-2dcc-4b7f-cb8c-762a043bc0c2"
      },
      "execution_count": 30,
      "outputs": [
        {
          "output_type": "stream",
          "name": "stdout",
          "text": [
            "{\n",
            "   \"person\": []\n",
            "}\n"
          ]
        }
      ]
    },
    {
      "cell_type": "markdown",
      "source": [
        "## Multiple Fields\n",
        "You can pass multiple fields if you're looking for more information\n",
        "\n"
      ],
      "metadata": {
        "id": "bNyjW-XxJwpy"
      }
    },
    {
      "cell_type": "code",
      "source": [
        "plant_schema = Object(\n",
        "    id=\"plant\",\n",
        "    description=\"Information about a plant\",\n",
        "\n",
        "    # Notice I put multiple fields to pull out different attributes\n",
        "    attributes=[\n",
        "        Text(\n",
        "            id=\"plant_type\",\n",
        "            description=\"The common name of the plant.\"\n",
        "        ),\n",
        "        Text(\n",
        "            id=\"color\",\n",
        "            description=\"The color of the plant\"\n",
        "        ),\n",
        "        Number(\n",
        "            id=\"rating\",\n",
        "            description=\"The rating of the plant.\"\n",
        "        )\n",
        "    ],\n",
        "    examples=[\n",
        "        (\n",
        "            \"Roses are red, lilies are white and a 8 out of 10.\",\n",
        "            [\n",
        "                {\"plant_type\": \"Roses\", \"color\": \"red\"},\n",
        "                {\"plant_type\": \"Lily\", \"color\": \"white\", \"rating\" : 8},\n",
        "            ],\n",
        "        )\n",
        "    ]\n",
        ")\n"
      ],
      "metadata": {
        "id": "JkfuvuLpJ07w"
      },
      "execution_count": 31,
      "outputs": []
    },
    {
      "cell_type": "code",
      "source": [
        "text=\"Palm trees are brown with a 6 rating. Sequoia trees are green\"\n",
        "\n",
        "chain = create_extraction_chain(llm, plant_schema)\n",
        "output = chain(text)\n",
        "\n",
        "printOutput(output['text']['data'])\n"
      ],
      "metadata": {
        "colab": {
          "base_uri": "https://localhost:8080/",
          "height": 260
        },
        "id": "FM-aslpCKmfw",
        "outputId": "c0d5f053-d599-4145-d609-c85bf82c29cc"
      },
      "execution_count": 36,
      "outputs": [
        {
          "output_type": "stream",
          "name": "stdout",
          "text": [
            "{\n",
            "   \"plant\": [\n",
            "      {\n",
            "         \"color\": \"brown\",\n",
            "         \"plant_type\": \"Palm\",\n",
            "         \"rating\": \"6.0\"\n",
            "      },\n",
            "      {\n",
            "         \"color\": \"green\",\n",
            "         \"plant_type\": \"Sequoia\",\n",
            "         \"rating\": \"\"\n",
            "      }\n",
            "   ]\n",
            "}\n"
          ]
        }
      ]
    },
    {
      "cell_type": "markdown",
      "source": [
        "# Working With Lists\n",
        "\n",
        "You can also extract lists as well.\n",
        "\n",
        "Note: Check out how I have a nested object. The 'parts' object is in the 'cars_schema'\n",
        "\n"
      ],
      "metadata": {
        "id": "KUvf90UsMAkp"
      }
    },
    {
      "cell_type": "code",
      "source": [
        "parts = Object(\n",
        "    id=\"parts\",\n",
        "    description=\"A single part of a car\",\n",
        "    attributes=[\n",
        "        Text(id=\"part\", description=\"The name of the part\")\n",
        "    ],\n",
        "    examples=[\n",
        "        (\n",
        "            \"the jeep has wheels and windows\",\n",
        "            [\n",
        "                {\"part\": \"wheel\"},\n",
        "                {\"part\": \"window\"}\n",
        "            ],\n",
        "        )\n",
        "    ]\n",
        ")\n",
        "\n",
        "cars_schema = Object(\n",
        "    id=\"car\",\n",
        "    description=\"Information about a car\",\n",
        "    examples=[\n",
        "        (\n",
        "            \"the bmw is red and has an engine and steering wheel\",\n",
        "            [\n",
        "                {\"type\": \"BMW\", \"color\": \"red\", \"parts\" : [\"engine\", \"steering wheel\"]}\n",
        "            ],\n",
        "        )\n",
        "    ],\n",
        "    attributes=[\n",
        "        Text(\n",
        "            id=\"type\",\n",
        "            description=\"The make or brand of the car\"\n",
        "        ),\n",
        "        Text(\n",
        "            id=\"color\",\n",
        "            description=\"The color of the car\"\n",
        "        ),\n",
        "        parts\n",
        "    ]\n",
        ")\n"
      ],
      "metadata": {
        "id": "Z1_osYYnMF_X"
      },
      "execution_count": 38,
      "outputs": []
    },
    {
      "cell_type": "code",
      "source": [
        "# To do nested objects you need to specify encoder_or_encoder_class=\"json\"\n",
        "text = \"The blue jeep has rear view mirror, roof, windshield\"\n",
        "\n",
        "# Changed the encoder to json\n",
        "chain = create_extraction_chain(llm, cars_schema, encoder_or_encoder_class=\"json\")\n",
        "output = chain(text)['text']['data']\n",
        "\n",
        "printOutput(output)\n"
      ],
      "metadata": {
        "colab": {
          "base_uri": "https://localhost:8080/",
          "height": 295
        },
        "id": "WHQtTNGoO8mH",
        "outputId": "b186ce87-036c-4679-c5ec-7082af0a7839"
      },
      "execution_count": 40,
      "outputs": [
        {
          "output_type": "stream",
          "name": "stdout",
          "text": [
            "{\n",
            "   \"car\": {\n",
            "      \"color\": \"blue\",\n",
            "      \"parts\": [\n",
            "         {\n",
            "            \"part\": \"rear view mirror\"\n",
            "         },\n",
            "         {\n",
            "            \"part\": \"roof\"\n",
            "         },\n",
            "         {\n",
            "            \"part\": \"windshield\"\n",
            "         }\n",
            "      ]\n",
            "   }\n",
            "}\n"
          ]
        }
      ]
    },
    {
      "cell_type": "code",
      "source": [
        "prompt = chain.prompt.format_prompt(text=text).to_string()\n",
        "\n",
        "print(prompt)\n"
      ],
      "metadata": {
        "colab": {
          "base_uri": "https://localhost:8080/"
        },
        "id": "O_mT5uEkPYuL",
        "outputId": "28c0e348-faa8-4529-ca57-983e77079f5b"
      },
      "execution_count": 41,
      "outputs": [
        {
          "output_type": "stream",
          "name": "stdout",
          "text": [
            "Your goal is to extract structured information from the user's input that matches the form described below. When extracting information please make sure it matches the type information exactly. Do not add any attributes that do not appear in the schema shown below.\n",
            "\n",
            "```TypeScript\n",
            "\n",
            "car: { // Information about a car\n",
            " type: string // The make or brand of the car\n",
            " color: string // The color of the car\n",
            " parts: { // A single part of a car\n",
            "  part: string // The name of the part\n",
            " }\n",
            "}\n",
            "```\n",
            "\n",
            "\n",
            "Please output the extracted information in JSON format. Do not output anything except for the extracted information. Do not add any clarifying information. Do not add any fields that are not in the schema. If the text contains attributes that do not appear in the schema, please ignore them. All output must be in JSON format and follow the schema specified above. Wrap the JSON in <json> tags.\n",
            "\n",
            "\n",
            "\n",
            "Input: the bmw is red and has an engine and steering wheel\n",
            "Output: <json>{\"car\": [{\"type\": \"BMW\", \"color\": \"red\", \"parts\": [\"engine\", \"steering wheel\"]}]}</json>\n",
            "Input: the jeep has wheels and windows\n",
            "Output: <json>{\"car\": {\"parts\": [{\"part\": \"wheel\"}, {\"part\": \"window\"}]}}</json>\n",
            "Input: The blue jeep has rear view mirror, roof, windshield\n",
            "Output:\n"
          ]
        }
      ]
    },
    {
      "cell_type": "code",
      "source": [
        "schema = Object(\n",
        "  id=\"forecaster\",\n",
        "  description=(\n",
        "      \"User is controling an app that makes financial forecasts. \"\n",
        "      \"They will give a command to update a forecast in the future\"\n",
        "  ),\n",
        "  attributes=[\n",
        "      Text(\n",
        "          id=\"year\",\n",
        "          description=\"Year the user wants to update\",\n",
        "          examples=[(\"please increase 2014's customers by 15%\", \"2014\")],\n",
        "          many=True,\n",
        "      ),\n",
        "      Text(\n",
        "          id=\"metric\",\n",
        "          description=\"The unit or metric a user would like to influence\",\n",
        "          examples=[(\"please increase 2014's customers by 15%\", \"customers\")],\n",
        "          many=True,\n",
        "      ),\n",
        "      Text(\n",
        "          id=\"amount\",\n",
        "          description=\"The quantity of a forecast adjustment\",\n",
        "          examples=[(\"please increase 2014's customers by 15%\", \".15\")],\n",
        "          many=True,\n",
        "      )\n",
        "    ],\n",
        "  many=False,\n",
        ")"
      ],
      "metadata": {
        "id": "N8d2aWcnSkN1"
      },
      "execution_count": 42,
      "outputs": []
    },
    {
      "cell_type": "code",
      "source": [
        "chain = create_extraction_chain(llm, schema, encoder_or_encoder_class='json')\n",
        "output = chain(\"please add 15 more units sold to 2023\")['text']['data']\n",
        "\n",
        "printOutput(output)\n"
      ],
      "metadata": {
        "colab": {
          "base_uri": "https://localhost:8080/",
          "height": 243
        },
        "id": "7iyqcQTwSuV6",
        "outputId": "7371972b-9c0b-4ab0-ffdd-416352a60689"
      },
      "execution_count": 44,
      "outputs": [
        {
          "output_type": "stream",
          "name": "stdout",
          "text": [
            "{\n",
            "   \"forecaster\": {\n",
            "      \"amount\": [\n",
            "         \"15\"\n",
            "      ],\n",
            "      \"metric\": [\n",
            "         \"units sold\"\n",
            "      ],\n",
            "      \"year\": [\n",
            "         \"2023\"\n",
            "      ]\n",
            "   }\n",
            "}\n"
          ]
        }
      ]
    },
    {
      "cell_type": "markdown",
      "source": [
        "# Opening Attributes - Real World Example\n",
        "\n",
        "Opening Attributes (my sample project for this application)\n",
        "\n",
        "If anyone wants to strategize on this project DM me on twitter\n",
        "\n"
      ],
      "metadata": {
        "id": "UXVaBoSZS9P5"
      }
    },
    {
      "cell_type": "markdown",
      "source": [
        "We are going to be pulling jobs from Greenhouse. No API key is needed.\n",
        "\n"
      ],
      "metadata": {
        "id": "jN6oSol2UA85"
      }
    },
    {
      "cell_type": "code",
      "source": [
        "def pull_from_greenhouse(board_token):\n",
        "    # If doing this in production, make sure you do retries and backoffs\n",
        "\n",
        "    # Get your URL ready to accept a parameter\n",
        "    url = f'https://boards-api.greenhouse.io/v1/boards/{board_token}/jobs?content=true'\n",
        "\n",
        "    try:\n",
        "        response = requests.get(url)\n",
        "    except:\n",
        "        # In case it doesn't work\n",
        "        print (\"Whoops, error\")\n",
        "        return\n",
        "\n",
        "    status_code = response.status_code\n",
        "\n",
        "    jobs = response.json()['jobs']\n",
        "\n",
        "    print (f\"{board_token}: {status_code}, Found {len(jobs)} jobs\")\n",
        "\n",
        "    return jobs\n"
      ],
      "metadata": {
        "id": "ThIFJKGQUB4B"
      },
      "execution_count": 45,
      "outputs": []
    },
    {
      "cell_type": "markdown",
      "source": [
        "Let's try it out for Okta\n",
        "\n"
      ],
      "metadata": {
        "id": "f18eJH_hUH-I"
      }
    },
    {
      "cell_type": "code",
      "source": [
        "jobs = pull_from_greenhouse(\"okta\")\n"
      ],
      "metadata": {
        "colab": {
          "base_uri": "https://localhost:8080/"
        },
        "id": "u86yiDwFULhU",
        "outputId": "681d1091-c33f-49f4-b7c8-a22cb77192cf"
      },
      "execution_count": 46,
      "outputs": [
        {
          "output_type": "stream",
          "name": "stdout",
          "text": [
            "okta: 200, Found 139 jobs\n"
          ]
        }
      ]
    },
    {
      "cell_type": "markdown",
      "source": [
        "Let's look at a sample job with it's raw dictionary\n",
        "\n"
      ],
      "metadata": {
        "id": "Wci3s1nvUa6B"
      }
    },
    {
      "cell_type": "code",
      "source": [
        "# Keep in mind that my job_ids will likely change when you run this depending on the postings of the company\n",
        "job_index = 0\n",
        "print (\"Preview:\\n\")\n",
        "print (json.dumps(jobs[job_index])[:400])\n"
      ],
      "metadata": {
        "colab": {
          "base_uri": "https://localhost:8080/"
        },
        "id": "lXvSovZ2UbhJ",
        "outputId": "33a57c93-142f-409d-eabc-0d4b6fdf9874"
      },
      "execution_count": 47,
      "outputs": [
        {
          "output_type": "stream",
          "name": "stdout",
          "text": [
            "Preview:\n",
            "\n",
            "{\"absolute_url\": \"https://www.okta.com/company/careers/opportunity/5476466?gh_jid=5476466\", \"data_compliance\": [{\"type\": \"gdpr\", \"requires_consent\": false, \"requires_processing_consent\": false, \"requires_retention_consent\": false, \"retention_period\": null}], \"internal_job_id\": 2669473, \"location\": {\"name\": \"Chicago, IL\"}, \"metadata\": null, \"id\": 5476466, \"updated_at\": \"2023-11-01T16:48:18-04:00\", \n"
          ]
        }
      ]
    },
    {
      "cell_type": "markdown",
      "source": [
        "Let's clean this up a bit\n",
        "\n"
      ],
      "metadata": {
        "id": "ptFrmuOEUnSE"
      }
    },
    {
      "cell_type": "code",
      "source": [
        "# I parsed through an output to create the function below\n",
        "def describeJob(job_description):\n",
        "    print(f\"Job ID: {job_description['id']}\")\n",
        "    print(f\"Link: {job_description['absolute_url']}\")\n",
        "    print(f\"Updated At: {datetime.fromisoformat(job_description['updated_at']).strftime('%B %-d, %Y')}\")\n",
        "    print(f\"Title: {job_description['title']}\\n\")\n",
        "    print(f\"Content:\\n{job_description['content'][:550]}\")\n"
      ],
      "metadata": {
        "id": "rckuh6TbUn8A"
      },
      "execution_count": 48,
      "outputs": []
    },
    {
      "cell_type": "markdown",
      "source": [
        "We'll look at another job. This job_id may or may not work for you depending on if the position is still active.\n",
        "\n"
      ],
      "metadata": {
        "id": "oKnb4uKWUsP5"
      }
    },
    {
      "cell_type": "code",
      "source": [
        "# Note: I'm using a hard coded job id below. You'll need to switch this if this job ever changes\n",
        "# and it most definitely will!\n",
        "job_id = 4982726\n",
        "\n",
        "job_description = [item for item in jobs if item['id'] == job_id][0]\n",
        "\n",
        "describeJob(job_description)\n"
      ],
      "metadata": {
        "colab": {
          "base_uri": "https://localhost:8080/"
        },
        "id": "nI5vv7GoUt31",
        "outputId": "4789f517-2ac0-4aeb-f794-7d8e5c0b6961"
      },
      "execution_count": 49,
      "outputs": [
        {
          "output_type": "stream",
          "name": "stdout",
          "text": [
            "Job ID: 4982726\n",
            "Link: https://www.okta.com/company/careers/opportunity/4982726?gh_jid=4982726\n",
            "Updated At: November 23, 2023\n",
            "Title: Staff Software Engineer (Universal Directory) \n",
            "\n",
            "Content:\n",
            "&lt;div class=&quot;content-intro&quot;&gt;&lt;p&gt;&lt;span style=&quot;color: #000000;&quot;&gt;&lt;strong&gt;Get to know Okta&lt;/strong&gt;&lt;/span&gt;&lt;/p&gt;\n",
            "&lt;p&gt;&lt;span style=&quot;color: #000000;&quot;&gt;&lt;br&gt;&lt;/span&gt;Okta is The World’s Identity Company. We free everyone to safely use any technology—anywhere, on any device or app. Our Workforce and Customer Identity Clouds enable secure yet flexible access, authentication, and automation that transforms how people move through the digital world, putting Identity at t\n"
          ]
        }
      ]
    },
    {
      "cell_type": "code",
      "source": [
        "soup = BeautifulSoup(job_description['content'], 'html.parser')\n"
      ],
      "metadata": {
        "id": "gdViaouJU3qB"
      },
      "execution_count": 50,
      "outputs": []
    },
    {
      "cell_type": "code",
      "source": [
        "text = soup.get_text()\n",
        "\n",
        "# Convert your html to markdown. This reduces tokens and noise\n",
        "text = md(text)\n",
        "\n",
        "print (text[:600])\n"
      ],
      "metadata": {
        "colab": {
          "base_uri": "https://localhost:8080/"
        },
        "id": "hXAm8EmYVI-o",
        "outputId": "479d6bff-1016-4201-accc-99c9ce95e012"
      },
      "execution_count": 51,
      "outputs": [
        {
          "output_type": "stream",
          "name": "stdout",
          "text": [
            "**Get to know Okta**\n",
            "\n",
            "\n",
            "  \n",
            "Okta is The World’s Identity Company. We free everyone to safely use any technology—anywhere, on any device or app. Our Workforce and Customer Identity Clouds enable secure yet flexible access, authentication, and automation that transforms how people move through the digital world, putting Identity at the heart of business security and growth.   \n",
            "  \n",
            "At Okta, we celebrate a variety of perspectives and experiences. We are not looking for someone who checks every single box - we’re looking for lifelong learners and people who can make us better with their unique experie\n"
          ]
        }
      ]
    },
    {
      "cell_type": "markdown",
      "source": [
        "Let's create a Kor object that will look for tools. This is the meat and potatoes of the application\n",
        "\n"
      ],
      "metadata": {
        "id": "OEkBEtISVf_g"
      }
    },
    {
      "cell_type": "code",
      "source": [
        "tools = Object(\n",
        "    id=\"tools\",\n",
        "    description=\"\"\"\n",
        "        A tool, application, or other company that is listed in a job description.\n",
        "        Analytics, eCommerce and GTM are not tools\n",
        "    \"\"\",\n",
        "    attributes=[\n",
        "        Text(\n",
        "            id=\"tool\",\n",
        "            description=\"The name of a tool or company\"\n",
        "        )\n",
        "    ],\n",
        "    examples=[\n",
        "        (\n",
        "            \"Experience in working with Netsuite, or Looker a plus.\",\n",
        "            [\n",
        "                {\"tool\": \"Netsuite\"},\n",
        "                {\"tool\": \"Looker\"},\n",
        "            ],\n",
        "        ),\n",
        "        (\n",
        "           \"Experience with Microsoft Excel\",\n",
        "            [\n",
        "               {\"tool\": \"Microsoft Excel\"}\n",
        "            ]\n",
        "        ),\n",
        "        (\n",
        "           \"You must know AWS to do well in the job\",\n",
        "            [\n",
        "               {\"tool\": \"AWS\"}\n",
        "            ]\n",
        "        ),\n",
        "        (\n",
        "           \"Troubleshooting customer issues and debugging from logs (Splunk, Syslogs, etc.) \",\n",
        "            [\n",
        "               {\"tool\": \"Splunk\"},\n",
        "            ]\n",
        "        )\n",
        "    ],\n",
        "    many=True,\n",
        ")\n"
      ],
      "metadata": {
        "id": "XXj3kaztVj6p"
      },
      "execution_count": 52,
      "outputs": []
    },
    {
      "cell_type": "code",
      "source": [
        "chain = create_extraction_chain(llm, tools, input_formatter=\"triple_quotes\")\n"
      ],
      "metadata": {
        "id": "PUeGdyYgWCFP"
      },
      "execution_count": 53,
      "outputs": []
    },
    {
      "cell_type": "code",
      "source": [
        "output = chain(text)[\"text\"][\"data\"]\n",
        "\n",
        "printOutput(output)\n"
      ],
      "metadata": {
        "colab": {
          "base_uri": "https://localhost:8080/",
          "height": 451
        },
        "id": "tBhyDzVcWGJ3",
        "outputId": "01f8429a-efae-41c0-9457-537519c3bbcd"
      },
      "execution_count": 54,
      "outputs": [
        {
          "output_type": "stream",
          "name": "stdout",
          "text": [
            "{\n",
            "   \"tools\": [\n",
            "      {\n",
            "         \"tool\": \"Java\"\n",
            "      },\n",
            "      {\n",
            "         \"tool\": \"Hibernate\"\n",
            "      },\n",
            "      {\n",
            "         \"tool\": \"Spring Boot\"\n",
            "      },\n",
            "      {\n",
            "         \"tool\": \"SQL\"\n",
            "      },\n",
            "      {\n",
            "         \"tool\": \"ElasticSearch\"\n",
            "      },\n",
            "      {\n",
            "         \"tool\": \"Docker\"\n",
            "      },\n",
            "      {\n",
            "         \"tool\": \"Kubernetes\"\n",
            "      }\n",
            "   ]\n",
            "}\n"
          ]
        }
      ]
    },
    {
      "cell_type": "markdown",
      "source": [
        "# Salary\n",
        "\n",
        "Let's grab salary information while we are at it.\n",
        "\n",
        "Not all jobs will list this information. If they do, it's rarely consistent across jobs. A great use case for LLMs to catch this information!\n",
        "\n"
      ],
      "metadata": {
        "id": "kaVObA1qavAt"
      }
    },
    {
      "cell_type": "code",
      "source": [
        "salary_range = Object(\n",
        "    id=\"salary_range\",\n",
        "    description=\"\"\"\n",
        "        The range of salary offered for a job mentioned in a job description\n",
        "    \"\"\",\n",
        "    attributes=[\n",
        "        Number(\n",
        "            id=\"low_end\",\n",
        "            description=\"The low end of a salary range\"\n",
        "        ),\n",
        "        Number(\n",
        "            id=\"high_end\",\n",
        "            description=\"The high end of a salary range\"\n",
        "        )\n",
        "    ],\n",
        "    examples=[\n",
        "        (\n",
        "            \"This position will make between $140 thousand and $230,000.00\",\n",
        "            [\n",
        "                {\"low_end\": 140000, \"high_end\": 230000},\n",
        "            ]\n",
        "        )\n",
        "    ]\n",
        ")\n"
      ],
      "metadata": {
        "id": "Hwp3u2OuaxQz"
      },
      "execution_count": 55,
      "outputs": []
    },
    {
      "cell_type": "code",
      "source": [
        "jobs = pull_from_greenhouse(\"cruise\")\n",
        "jobs[0]"
      ],
      "metadata": {
        "id": "aRP_wHAtej4h"
      },
      "execution_count": null,
      "outputs": []
    },
    {
      "cell_type": "code",
      "source": [
        "# This job id may not work for you, pick another one from the list if it doesn't.\n",
        "job_id = 5468161\n",
        "\n",
        "job_description = [item for item in jobs if item['id'] == job_id][0]\n",
        "\n",
        "describeJob(job_description)\n",
        "\n",
        "soup = BeautifulSoup(job_description['content'], 'html.parser')\n",
        "text = soup.get_text()\n",
        "\n",
        "# Convert your html to markdown. This reduces tokens and noise\n",
        "text = md(text)\n",
        "\n",
        "print (text[:600])\n"
      ],
      "metadata": {
        "colab": {
          "base_uri": "https://localhost:8080/"
        },
        "id": "Hoec8UwseoAZ",
        "outputId": "7d265b2a-a26b-4ff9-c422-f6e769f57464"
      },
      "execution_count": 62,
      "outputs": [
        {
          "output_type": "stream",
          "name": "stdout",
          "text": [
            "Job ID: 5468161\n",
            "Link: https://boards.greenhouse.io/cruise/jobs/5468161?gh_jid=5468161\n",
            "Updated At: December 4, 2023\n",
            "Title: AV Platform | Robotics Technical Lead\n",
            "\n",
            "Content:\n",
            "&lt;div class=&quot;content-intro&quot;&gt;&lt;p&gt;&lt;span style=&quot;font-weight: 400;&quot;&gt;We&#39;re Cruise, a self-driving service designed for the cities we love.&lt;/span&gt;&lt;/p&gt;\n",
            "&lt;p&gt;&lt;span style=&quot;font-weight: 400;&quot;&gt;We’re building the world’s most advanced self-driving vehicles to safely connect people to the places, things, and experiences they care about. We believe self-driving vehicles will help save lives, reshape cities, give back time in transit, and restore freedom of movement for many.&lt;/span&gt;\n",
            "We're Cruise, a self-driving service designed for the cities we love.\n",
            "\n",
            "\n",
            "We’re building the world’s most advanced self-driving vehicles to safely connect people to the places, things, and experiences they care about. We believe self-driving vehicles will help save lives, reshape cities, give back time in transit, and restore freedom of movement for many.\n",
            "\n",
            "\n",
            "In our cars, you’re free to be yourself. It’s the same here at Cruise. We’re creating a culture that values the experiences and contributions of all of the unique individuals who collectively make up Cruise, so that every employee can do thei\n"
          ]
        }
      ]
    },
    {
      "cell_type": "code",
      "source": [
        "chain = create_extraction_chain(llm, salary_range)\n",
        "output = chain(text)[\"text\"][\"data\"]\n",
        "\n",
        "printOutput(output)\n"
      ],
      "metadata": {
        "colab": {
          "base_uri": "https://localhost:8080/",
          "height": 156
        },
        "id": "09VWwIKGfSWh",
        "outputId": "1798f602-dd9a-4632-b9f8-f5fc80335eed"
      },
      "execution_count": 64,
      "outputs": [
        {
          "output_type": "stream",
          "name": "stdout",
          "text": [
            "{\n",
            "   \"salary_range\": [\n",
            "      {\n",
            "         \"high_end\": \"218500\",\n",
            "         \"low_end\": \"148600\"\n",
            "      }\n",
            "   ]\n",
            "}\n"
          ]
        }
      ]
    },
    {
      "cell_type": "markdown",
      "source": [
        "OpenAI GPT4 Pricing"
      ],
      "metadata": {
        "id": "DkkljktAh3wH"
      }
    },
    {
      "cell_type": "code",
      "source": [
        "# works with openAI\n",
        "with get_openai_callback() as cb:\n",
        "    result = chain(text)\n",
        "    print(f\"Total Tokens: {cb.total_tokens}\")\n",
        "    print(f\"Prompt Tokens: {cb.prompt_tokens}\")\n",
        "    print(f\"Completion Tokens: {cb.completion_tokens}\")\n",
        "    print(f\"Successful Requests: {cb.successful_requests}\")\n",
        "    print(f\"Total Cost (USD): ${cb.total_cost}\")\n"
      ],
      "metadata": {
        "colab": {
          "base_uri": "https://localhost:8080/",
          "height": 104
        },
        "id": "zg_t5nEph44C",
        "outputId": "328a82cc-c999-4d0a-cfb8-5c14c35eb0fa"
      },
      "execution_count": 68,
      "outputs": [
        {
          "output_type": "stream",
          "name": "stdout",
          "text": [
            "Total Tokens: 0\n",
            "Prompt Tokens: 0\n",
            "Completion Tokens: 0\n",
            "Successful Requests: 0\n",
            "Total Cost (USD): $0.0\n"
          ]
        }
      ]
    },
    {
      "cell_type": "markdown",
      "source": [
        "Suggested To Do if you want to build this out:\n",
        "\n",
        "Reduce amount of HTML and low-signal text that gets put into the prompt\n",
        "Gather list of 1000s of companies\n",
        "Run through most jobs (You'll likely start to see duplicate information after the first 10-15 jobs per department)\n",
        "Store results\n",
        "Snapshot daily as you look for new jobs\n",
        "Follow Greg on Twitter for more tools or if you want to chat about this project\n",
        "Read the user feedback below for what else to build out with this project (I reached out to everyone who signed up on twitter)\n"
      ],
      "metadata": {
        "id": "Qe8cF1iviUGn"
      }
    },
    {
      "cell_type": "markdown",
      "source": [
        "# Business idea: Job Data As A Service\n",
        "Start a data service that collects information about company's jobs. This can be sold to investors looking for an edge.\n",
        "\n",
        "After posting this tweet there were 80 people that signed up for the trial. I emailed all of them and most were job seekers looking for companies that used the tech they specialized in.\n",
        "\n",
        "The more interesting use case were sales teams + investors.\n",
        "\n",
        "Interesting User Feedback (Persona: Investor):\n",
        "Hey Gregory, thanks for reaching out.\n",
        "\n",
        "\n",
        "I always thought that job posts were a gold mine of information, and often suggest identifying targets based on these (go look at relevant job posts for companies that might want to work with you). Secondly, I also automatically ping BuiltWith from our CRM and send that to OpenAI and have a summarized tech stack created - so I see the benefit of having this as an investor.\n",
        "\n",
        "For me personally, I like to get as much data as possible about a company. Would love to see job post cadence, type of jobs they post and when, notable keywords/phrases used, tech stack (which you have), and any other information we can glean from the job posts (sometimes they have the title of who you'll report to, etc.).\n",
        "\n",
        "For sales people, I think finer searches, maybe even in natural language if possible - such as \"search for companies who posted a data science related job for the first time\" - would be powerful.\n",
        "\n",
        "If you do this, let me know! I'd love to hear how it goes."
      ],
      "metadata": {
        "id": "5f0lZEoMiYUw"
      }
    }
  ]
}