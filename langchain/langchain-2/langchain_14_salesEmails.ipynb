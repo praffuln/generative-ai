{
  "nbformat": 4,
  "nbformat_minor": 0,
  "metadata": {
    "colab": {
      "provenance": [],
      "authorship_tag": "ABX9TyM/O0HopiHa0xiPXXZtPqN1",
      "include_colab_link": true
    },
    "kernelspec": {
      "name": "python3",
      "display_name": "Python 3"
    },
    "language_info": {
      "name": "python"
    }
  },
  "cells": [
    {
      "cell_type": "markdown",
      "metadata": {
        "id": "view-in-github",
        "colab_type": "text"
      },
      "source": [
        "<a href=\"https://colab.research.google.com/github/praffuln/langchain/blob/master/langchain-2/langchain_14_salesEmails.ipynb\" target=\"_parent\"><img src=\"https://colab.research.google.com/assets/colab-badge.svg\" alt=\"Open In Colab\"/></a>"
      ]
    },
    {
      "cell_type": "code",
      "execution_count": null,
      "metadata": {
        "id": "O1QGiyuexV9Z"
      },
      "outputs": [],
      "source": [
        "!pip install langchain\n",
        "!pip install openAI\n",
        "!pip install wikipedia\n",
        "!pip install huggingface_hub\n",
        "!pip install InstructorEmbedding\n",
        "!pip install google-search-results\n",
        "!pip install unstructured\n",
        "!pip install libmagic\n",
        "!pip install python-magic\n",
        "!pip install python-magic-bin\n",
        "#Install faiss Packages\n",
        "!pip install faiss-cpu\n",
        "!pip install sentence-transformers\n",
        "!pip install wolframalpha\n",
        "!pip install pypdf\n",
        "!pip install youtube-transcript-api\n",
        "!pip install pytube\n",
        "!pip install python-dotenv\n",
        "!pip install pinecone-client"
      ]
    },
    {
      "cell_type": "markdown",
      "source": [
        "# API"
      ],
      "metadata": {
        "id": "c67GeoptLNsA"
      }
    },
    {
      "cell_type": "code",
      "source": [
        "import os\n",
        "os.environ['HUGGINGFACEHUB_API_TOKEN'] = \"\"\n"
      ],
      "metadata": {
        "id": "iTI8L6-19ygG"
      },
      "execution_count": 2,
      "outputs": []
    },
    {
      "cell_type": "code",
      "source": [
        "from langchain.document_loaders import UnstructuredURLLoader\n",
        "from langchain.chains.summarize import load_summarize_chain\n",
        "from langchain.llms import OpenAI\n",
        "from langchain.text_splitter import RecursiveCharacterTextSplitter\n",
        "from langchain.prompts import PromptTemplate\n"
      ],
      "metadata": {
        "id": "pQG8PLdHLrrB"
      },
      "execution_count": 3,
      "outputs": []
    },
    {
      "cell_type": "markdown",
      "source": [
        "# Load LLM"
      ],
      "metadata": {
        "id": "usqtWViMgvJ6"
      }
    },
    {
      "cell_type": "code",
      "source": [
        "# Load up LLM\n",
        "from langchain import HuggingFaceHub\n",
        "\n",
        "llm = HuggingFaceHub(\n",
        "    repo_id=\"google/flan-t5-xxl\",\n",
        "    model_kwargs={\"temperature\": 0.5}\n",
        ")"
      ],
      "metadata": {
        "colab": {
          "base_uri": "https://localhost:8080/"
        },
        "id": "B1sdUzs3gxpS",
        "outputId": "8cfdae4a-3980-4775-e393-d6da7ef523a9"
      },
      "execution_count": 4,
      "outputs": [
        {
          "output_type": "stream",
          "name": "stderr",
          "text": [
            "/usr/local/lib/python3.10/dist-packages/huggingface_hub/utils/_deprecation.py:127: FutureWarning: '__init__' (from 'huggingface_hub.inference_api') is deprecated and will be removed from version '1.0'. `InferenceApi` client is deprecated in favor of the more feature-complete `InferenceClient`. Check out this guide to learn how to convert your script to use it: https://huggingface.co/docs/huggingface_hub/guides/inference#legacy-inferenceapi-client.\n",
            "  warnings.warn(warning_message, FutureWarning)\n"
          ]
        }
      ]
    },
    {
      "cell_type": "markdown",
      "source": [
        "# Load up HTML from company page\n"
      ],
      "metadata": {
        "id": "ETjLjiQpOHx4"
      }
    },
    {
      "cell_type": "code",
      "source": [
        "def get_company_page(company_path):\n",
        "    y_combinator_url = f\"https://www.ycombinator.com{company_path}\"\n",
        "\n",
        "    print (y_combinator_url)\n",
        "\n",
        "    loader = UnstructuredURLLoader(urls=[y_combinator_url])\n",
        "    return loader.load()\n",
        "\n",
        "\n",
        "# Get the data of the company you're interested in\n",
        "data = get_company_page(\"/companies/poly\")\n",
        "\n",
        "print (f\"You have {len(data)} document(s)\")\n"
      ],
      "metadata": {
        "colab": {
          "base_uri": "https://localhost:8080/"
        },
        "id": "AjM8iuY0OJAj",
        "outputId": "a5799554-bdf1-4fb8-82df-f4857bece9fd"
      },
      "execution_count": 5,
      "outputs": [
        {
          "output_type": "stream",
          "name": "stdout",
          "text": [
            "https://www.ycombinator.com/companies/poly\n"
          ]
        },
        {
          "output_type": "stream",
          "name": "stderr",
          "text": [
            "[nltk_data] Downloading package punkt to /root/nltk_data...\n",
            "[nltk_data]   Unzipping tokenizers/punkt.zip.\n",
            "[nltk_data] Downloading package averaged_perceptron_tagger to\n",
            "[nltk_data]     /root/nltk_data...\n",
            "[nltk_data]   Unzipping taggers/averaged_perceptron_tagger.zip.\n"
          ]
        },
        {
          "output_type": "stream",
          "name": "stdout",
          "text": [
            "You have 1 document(s)\n"
          ]
        }
      ]
    },
    {
      "cell_type": "code",
      "source": [
        "print (f\"Preview of your data:\\n\\n{data[0].page_content[:30]}\")\n"
      ],
      "metadata": {
        "colab": {
          "base_uri": "https://localhost:8080/"
        },
        "id": "JGdF5g2aORY0",
        "outputId": "9ebd9ede-85ca-46e5-c2a6-4b7a37579fb6"
      },
      "execution_count": 6,
      "outputs": [
        {
          "output_type": "stream",
          "name": "stdout",
          "text": [
            "Preview of your data:\n",
            "\n",
            "About\n",
            "\n",
            "What Happens at YC?\n",
            "\n",
            "Ap\n"
          ]
        }
      ]
    },
    {
      "cell_type": "code",
      "source": [
        "# Split up the texts so you don't run into token limits\n",
        "text_splitter = RecursiveCharacterTextSplitter(\n",
        "    # Set a really small chunk size, just to show.\n",
        "    chunk_size = 800,\n",
        "    chunk_overlap  = 0\n",
        ")\n",
        "\n",
        "docs = text_splitter.split_documents(data)\n",
        "\n",
        "print (f\"You now have {len(docs)} documents\")\n"
      ],
      "metadata": {
        "colab": {
          "base_uri": "https://localhost:8080/"
        },
        "id": "ds7QNrc-OXV0",
        "outputId": "760626c7-3f3f-4664-e173-f217fdeaf203"
      },
      "execution_count": 7,
      "outputs": [
        {
          "output_type": "stream",
          "name": "stdout",
          "text": [
            "You now have 6 documents\n"
          ]
        }
      ]
    },
    {
      "cell_type": "markdown",
      "source": [
        "## Write custom prompt templates\n",
        "These will be used for your specific use case:\n",
        "\n",
        "map_prompt will be the prompt that is done on  first pass of  documents\n",
        "combine_prompt will be the prompt that is used when you combine the outputs of  map pass\n"
      ],
      "metadata": {
        "id": "o4W78aqfQBwq"
      }
    },
    {
      "cell_type": "code",
      "source": [
        "map_prompt = \"\"\"Below is a section of a website about {prospect}\n",
        "\n",
        "Write a concise summary about {prospect}. If the information is not about {prospect}, exclude it from your summary.\n",
        "\n",
        "{text}\n",
        "\n",
        "% CONCISE SUMMARY:\"\"\"\n",
        "map_prompt_template = PromptTemplate(template=map_prompt, input_variables=[\"text\", \"prospect\"])\n"
      ],
      "metadata": {
        "id": "sbO-zEhQQIGq"
      },
      "execution_count": 8,
      "outputs": []
    },
    {
      "cell_type": "code",
      "source": [
        "combine_prompt = \"\"\"\n",
        "Your goal is to write a personalized outbound email from {sales_rep}, a sales rep at {company} to {prospect}.\n",
        "\n",
        "A good email is personalized and combines information about the two companies on how they can help each other.\n",
        "Be sure to use value selling: A sales methodology that focuses on how your product or service will provide value to the customer instead of focusing on price or solution.\n",
        "\n",
        "% INFORMATION ABOUT {company}:\n",
        "{company_information}\n",
        "\n",
        "% INFORMATION ABOUT {prospect}:\n",
        "{text}\n",
        "\n",
        "% INCLUDE THE FOLLOWING PIECES IN YOUR RESPONSE:\n",
        "- Start the email with the sentence: \"We love that {prospect} helps teams...\" then insert what they help teams do.\n",
        "- The sentence: \"We can help you do XYZ by ABC\" Replace XYZ with what {prospect} does and ABC with what {company} does\n",
        "- A 1-2 sentence description about {company}, be brief\n",
        "- End your email with a call-to-action such as asking them to set up time to talk more\n",
        "\n",
        "% YOUR RESPONSE:\n",
        "\"\"\"\n",
        "combine_prompt_template = PromptTemplate(template=combine_prompt, input_variables=[\"sales_rep\", \"company\", \"prospect\", \\\n",
        "                                                                         \"text\", \"company_information\"])\n"
      ],
      "metadata": {
        "id": "WCDyzC0gQOxC"
      },
      "execution_count": 9,
      "outputs": []
    },
    {
      "cell_type": "code",
      "source": [
        "company_information = \"\"\"\n",
        "* RapidRoad helps product teams build product faster\n",
        "* We have a platform that allows product teams to talk more, exchange ideas, and listen to more customers\n",
        "* Automated project tracking: RapidRoad could use machine learning algorithms to automatically track project progress, identify potential bottlenecks, and suggest ways to optimize workflows. This could help product teams stay on track and deliver faster results.\n",
        "* Collaboration tools: RapidRoad could offer built-in collaboration tools, such as shared task lists, real-time messaging, and team calendars. This would make it easier for teams to communicate and work together, even if they are in different locations or time zones.\n",
        "* Agile methodology support: RapidRoad could be specifically designed to support agile development methodologies, such as Scrum or Kanban. This could include features like sprint planning, backlog management, and burndown charts, which would help teams stay organized and focused on their goals.\n",
        "\"\"\"\n"
      ],
      "metadata": {
        "id": "wLs5WMfbQSEi"
      },
      "execution_count": 10,
      "outputs": []
    },
    {
      "cell_type": "markdown",
      "source": [
        "# LangChain Magic"
      ],
      "metadata": {
        "id": "EF-t46GHQYmS"
      }
    },
    {
      "cell_type": "code",
      "source": [
        "chain = load_summarize_chain(llm,\n",
        "                             chain_type=\"map_reduce\",\n",
        "                             map_prompt=map_prompt_template,\n",
        "                             combine_prompt=combine_prompt_template,\n",
        "                             verbose=True\n",
        "                            )\n",
        "\n",
        "output = chain({\"input_documents\": docs, # The seven docs that were created before\n",
        "                \"company\": \"RapidRoad\", \\\n",
        "                \"company_information\" : company_information,\n",
        "                \"sales_rep\" : \"Greg\", \\\n",
        "                \"prospect\" : \"Poly\"\n",
        "               })\n",
        "output"
      ],
      "metadata": {
        "id": "jLaNtsLqQaXD"
      },
      "execution_count": null,
      "outputs": []
    },
    {
      "cell_type": "code",
      "source": [
        "output['output_text']"
      ],
      "metadata": {
        "colab": {
          "base_uri": "https://localhost:8080/",
          "height": 140
        },
        "id": "GDSJGx5UVjIQ",
        "outputId": "5cba7fd9-a7e5-422a-d37b-4e060e6692c7"
      },
      "execution_count": 13,
      "outputs": [
        {
          "output_type": "execute_result",
          "data": {
            "text/plain": [
              "'We love that Poly helps teams to build product faster. We can help you do this by introducing you to RapidRoad. RapidRoad is a platform that helps product teams build product faster. RapidRoad is a platform that helps product teams build product faster. We have a platform that allows product teams to talk more, exchange ideas, and listen to more customers. RapidRoad could use machine learning algorithms to automatically track project progress, identify potential bottlenecks, and suggest ways to optimize workflows. This could help product teams stay on track and deliver faster results. RapidRoad could be specifically designed to support agile development methodologies, such as Scrum or Kanban. This could include features like sprint planning, backlog management, and burndown charts, which would help teams stay organized and focused on their goals. RapidRoad could be specifically designed to support agile development methodologies, such as Scrum or Kanban. This could include features like sprint planning, backlog management, and burndown charts, which would help teams stay organized and focused on their goals. RapidRoad could be specifically designed to support agile development methodologies, such as Scrum or Kanban. This could include features like sprint planning, backlog management, and burndown charts, which would help teams stay organized and focused on their goals.'"
            ],
            "application/vnd.google.colaboratory.intrinsic+json": {
              "type": "string"
            }
          },
          "metadata": {},
          "execution_count": 13
        }
      ]
    }
  ]
}