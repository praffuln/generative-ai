{
  "nbformat": 4,
  "nbformat_minor": 0,
  "metadata": {
    "colab": {
      "provenance": [],
      "authorship_tag": "ABX9TyPrzn+sWn80+kCJ6re+jVBR",
      "include_colab_link": true
    },
    "kernelspec": {
      "name": "python3",
      "display_name": "Python 3"
    },
    "language_info": {
      "name": "python"
    },
    "widgets": {
      "application/vnd.jupyter.widget-state+json": {
        "d1af6e54859e413196aee0a9f514543f": {
          "model_module": "@jupyter-widgets/controls",
          "model_name": "HBoxModel",
          "model_module_version": "1.5.0",
          "state": {
            "_dom_classes": [],
            "_model_module": "@jupyter-widgets/controls",
            "_model_module_version": "1.5.0",
            "_model_name": "HBoxModel",
            "_view_count": null,
            "_view_module": "@jupyter-widgets/controls",
            "_view_module_version": "1.5.0",
            "_view_name": "HBoxView",
            "box_style": "",
            "children": [
              "IPY_MODEL_6001a0ebca7843d2999d3d1660ebdece",
              "IPY_MODEL_2615ec8d5f524a5c88f6c0a72eff97f6",
              "IPY_MODEL_21d45022fbca4231b26667451deb416a"
            ],
            "layout": "IPY_MODEL_3da87a03686742548298908edd1524a8"
          }
        },
        "6001a0ebca7843d2999d3d1660ebdece": {
          "model_module": "@jupyter-widgets/controls",
          "model_name": "HTMLModel",
          "model_module_version": "1.5.0",
          "state": {
            "_dom_classes": [],
            "_model_module": "@jupyter-widgets/controls",
            "_model_module_version": "1.5.0",
            "_model_name": "HTMLModel",
            "_view_count": null,
            "_view_module": "@jupyter-widgets/controls",
            "_view_module_version": "1.5.0",
            "_view_name": "HTMLView",
            "description": "",
            "description_tooltip": null,
            "layout": "IPY_MODEL_fc876f711f18455e8d9ab42c152c557e",
            "placeholder": "​",
            "style": "IPY_MODEL_0b5f0fd79e6e4ccca0c3e7fc8cf80249",
            "value": "vocab.json: 100%"
          }
        },
        "2615ec8d5f524a5c88f6c0a72eff97f6": {
          "model_module": "@jupyter-widgets/controls",
          "model_name": "FloatProgressModel",
          "model_module_version": "1.5.0",
          "state": {
            "_dom_classes": [],
            "_model_module": "@jupyter-widgets/controls",
            "_model_module_version": "1.5.0",
            "_model_name": "FloatProgressModel",
            "_view_count": null,
            "_view_module": "@jupyter-widgets/controls",
            "_view_module_version": "1.5.0",
            "_view_name": "ProgressView",
            "bar_style": "success",
            "description": "",
            "description_tooltip": null,
            "layout": "IPY_MODEL_ebbc496cbb5242e69b8bcb71e812e3d1",
            "max": 1042301,
            "min": 0,
            "orientation": "horizontal",
            "style": "IPY_MODEL_707b26414c684ff4b4fff2f09efaa582",
            "value": 1042301
          }
        },
        "21d45022fbca4231b26667451deb416a": {
          "model_module": "@jupyter-widgets/controls",
          "model_name": "HTMLModel",
          "model_module_version": "1.5.0",
          "state": {
            "_dom_classes": [],
            "_model_module": "@jupyter-widgets/controls",
            "_model_module_version": "1.5.0",
            "_model_name": "HTMLModel",
            "_view_count": null,
            "_view_module": "@jupyter-widgets/controls",
            "_view_module_version": "1.5.0",
            "_view_name": "HTMLView",
            "description": "",
            "description_tooltip": null,
            "layout": "IPY_MODEL_60c83ca996b943d2b3c58ec5e074b10a",
            "placeholder": "​",
            "style": "IPY_MODEL_6bd93d3e7ee2490cade3775c6e98b70f",
            "value": " 1.04M/1.04M [00:00&lt;00:00, 9.58MB/s]"
          }
        },
        "3da87a03686742548298908edd1524a8": {
          "model_module": "@jupyter-widgets/base",
          "model_name": "LayoutModel",
          "model_module_version": "1.2.0",
          "state": {
            "_model_module": "@jupyter-widgets/base",
            "_model_module_version": "1.2.0",
            "_model_name": "LayoutModel",
            "_view_count": null,
            "_view_module": "@jupyter-widgets/base",
            "_view_module_version": "1.2.0",
            "_view_name": "LayoutView",
            "align_content": null,
            "align_items": null,
            "align_self": null,
            "border": null,
            "bottom": null,
            "display": null,
            "flex": null,
            "flex_flow": null,
            "grid_area": null,
            "grid_auto_columns": null,
            "grid_auto_flow": null,
            "grid_auto_rows": null,
            "grid_column": null,
            "grid_gap": null,
            "grid_row": null,
            "grid_template_areas": null,
            "grid_template_columns": null,
            "grid_template_rows": null,
            "height": null,
            "justify_content": null,
            "justify_items": null,
            "left": null,
            "margin": null,
            "max_height": null,
            "max_width": null,
            "min_height": null,
            "min_width": null,
            "object_fit": null,
            "object_position": null,
            "order": null,
            "overflow": null,
            "overflow_x": null,
            "overflow_y": null,
            "padding": null,
            "right": null,
            "top": null,
            "visibility": null,
            "width": null
          }
        },
        "fc876f711f18455e8d9ab42c152c557e": {
          "model_module": "@jupyter-widgets/base",
          "model_name": "LayoutModel",
          "model_module_version": "1.2.0",
          "state": {
            "_model_module": "@jupyter-widgets/base",
            "_model_module_version": "1.2.0",
            "_model_name": "LayoutModel",
            "_view_count": null,
            "_view_module": "@jupyter-widgets/base",
            "_view_module_version": "1.2.0",
            "_view_name": "LayoutView",
            "align_content": null,
            "align_items": null,
            "align_self": null,
            "border": null,
            "bottom": null,
            "display": null,
            "flex": null,
            "flex_flow": null,
            "grid_area": null,
            "grid_auto_columns": null,
            "grid_auto_flow": null,
            "grid_auto_rows": null,
            "grid_column": null,
            "grid_gap": null,
            "grid_row": null,
            "grid_template_areas": null,
            "grid_template_columns": null,
            "grid_template_rows": null,
            "height": null,
            "justify_content": null,
            "justify_items": null,
            "left": null,
            "margin": null,
            "max_height": null,
            "max_width": null,
            "min_height": null,
            "min_width": null,
            "object_fit": null,
            "object_position": null,
            "order": null,
            "overflow": null,
            "overflow_x": null,
            "overflow_y": null,
            "padding": null,
            "right": null,
            "top": null,
            "visibility": null,
            "width": null
          }
        },
        "0b5f0fd79e6e4ccca0c3e7fc8cf80249": {
          "model_module": "@jupyter-widgets/controls",
          "model_name": "DescriptionStyleModel",
          "model_module_version": "1.5.0",
          "state": {
            "_model_module": "@jupyter-widgets/controls",
            "_model_module_version": "1.5.0",
            "_model_name": "DescriptionStyleModel",
            "_view_count": null,
            "_view_module": "@jupyter-widgets/base",
            "_view_module_version": "1.2.0",
            "_view_name": "StyleView",
            "description_width": ""
          }
        },
        "ebbc496cbb5242e69b8bcb71e812e3d1": {
          "model_module": "@jupyter-widgets/base",
          "model_name": "LayoutModel",
          "model_module_version": "1.2.0",
          "state": {
            "_model_module": "@jupyter-widgets/base",
            "_model_module_version": "1.2.0",
            "_model_name": "LayoutModel",
            "_view_count": null,
            "_view_module": "@jupyter-widgets/base",
            "_view_module_version": "1.2.0",
            "_view_name": "LayoutView",
            "align_content": null,
            "align_items": null,
            "align_self": null,
            "border": null,
            "bottom": null,
            "display": null,
            "flex": null,
            "flex_flow": null,
            "grid_area": null,
            "grid_auto_columns": null,
            "grid_auto_flow": null,
            "grid_auto_rows": null,
            "grid_column": null,
            "grid_gap": null,
            "grid_row": null,
            "grid_template_areas": null,
            "grid_template_columns": null,
            "grid_template_rows": null,
            "height": null,
            "justify_content": null,
            "justify_items": null,
            "left": null,
            "margin": null,
            "max_height": null,
            "max_width": null,
            "min_height": null,
            "min_width": null,
            "object_fit": null,
            "object_position": null,
            "order": null,
            "overflow": null,
            "overflow_x": null,
            "overflow_y": null,
            "padding": null,
            "right": null,
            "top": null,
            "visibility": null,
            "width": null
          }
        },
        "707b26414c684ff4b4fff2f09efaa582": {
          "model_module": "@jupyter-widgets/controls",
          "model_name": "ProgressStyleModel",
          "model_module_version": "1.5.0",
          "state": {
            "_model_module": "@jupyter-widgets/controls",
            "_model_module_version": "1.5.0",
            "_model_name": "ProgressStyleModel",
            "_view_count": null,
            "_view_module": "@jupyter-widgets/base",
            "_view_module_version": "1.2.0",
            "_view_name": "StyleView",
            "bar_color": null,
            "description_width": ""
          }
        },
        "60c83ca996b943d2b3c58ec5e074b10a": {
          "model_module": "@jupyter-widgets/base",
          "model_name": "LayoutModel",
          "model_module_version": "1.2.0",
          "state": {
            "_model_module": "@jupyter-widgets/base",
            "_model_module_version": "1.2.0",
            "_model_name": "LayoutModel",
            "_view_count": null,
            "_view_module": "@jupyter-widgets/base",
            "_view_module_version": "1.2.0",
            "_view_name": "LayoutView",
            "align_content": null,
            "align_items": null,
            "align_self": null,
            "border": null,
            "bottom": null,
            "display": null,
            "flex": null,
            "flex_flow": null,
            "grid_area": null,
            "grid_auto_columns": null,
            "grid_auto_flow": null,
            "grid_auto_rows": null,
            "grid_column": null,
            "grid_gap": null,
            "grid_row": null,
            "grid_template_areas": null,
            "grid_template_columns": null,
            "grid_template_rows": null,
            "height": null,
            "justify_content": null,
            "justify_items": null,
            "left": null,
            "margin": null,
            "max_height": null,
            "max_width": null,
            "min_height": null,
            "min_width": null,
            "object_fit": null,
            "object_position": null,
            "order": null,
            "overflow": null,
            "overflow_x": null,
            "overflow_y": null,
            "padding": null,
            "right": null,
            "top": null,
            "visibility": null,
            "width": null
          }
        },
        "6bd93d3e7ee2490cade3775c6e98b70f": {
          "model_module": "@jupyter-widgets/controls",
          "model_name": "DescriptionStyleModel",
          "model_module_version": "1.5.0",
          "state": {
            "_model_module": "@jupyter-widgets/controls",
            "_model_module_version": "1.5.0",
            "_model_name": "DescriptionStyleModel",
            "_view_count": null,
            "_view_module": "@jupyter-widgets/base",
            "_view_module_version": "1.2.0",
            "_view_name": "StyleView",
            "description_width": ""
          }
        },
        "4ef15c682b2e47dcbbe0e4d86e599912": {
          "model_module": "@jupyter-widgets/controls",
          "model_name": "HBoxModel",
          "model_module_version": "1.5.0",
          "state": {
            "_dom_classes": [],
            "_model_module": "@jupyter-widgets/controls",
            "_model_module_version": "1.5.0",
            "_model_name": "HBoxModel",
            "_view_count": null,
            "_view_module": "@jupyter-widgets/controls",
            "_view_module_version": "1.5.0",
            "_view_name": "HBoxView",
            "box_style": "",
            "children": [
              "IPY_MODEL_e94ecd4241914b2686b625d5e1df9ddd",
              "IPY_MODEL_2f7d91c9d18341faabbfce9b3f43148d",
              "IPY_MODEL_4422d044950f454ca26ad088ed4dfdf7"
            ],
            "layout": "IPY_MODEL_4f884795779e45389da670416be05548"
          }
        },
        "e94ecd4241914b2686b625d5e1df9ddd": {
          "model_module": "@jupyter-widgets/controls",
          "model_name": "HTMLModel",
          "model_module_version": "1.5.0",
          "state": {
            "_dom_classes": [],
            "_model_module": "@jupyter-widgets/controls",
            "_model_module_version": "1.5.0",
            "_model_name": "HTMLModel",
            "_view_count": null,
            "_view_module": "@jupyter-widgets/controls",
            "_view_module_version": "1.5.0",
            "_view_name": "HTMLView",
            "description": "",
            "description_tooltip": null,
            "layout": "IPY_MODEL_de898dfefc4f4519ae6853362361fba2",
            "placeholder": "​",
            "style": "IPY_MODEL_ad4de74fc2ac4a14909d74f77411ce58",
            "value": "merges.txt: 100%"
          }
        },
        "2f7d91c9d18341faabbfce9b3f43148d": {
          "model_module": "@jupyter-widgets/controls",
          "model_name": "FloatProgressModel",
          "model_module_version": "1.5.0",
          "state": {
            "_dom_classes": [],
            "_model_module": "@jupyter-widgets/controls",
            "_model_module_version": "1.5.0",
            "_model_name": "FloatProgressModel",
            "_view_count": null,
            "_view_module": "@jupyter-widgets/controls",
            "_view_module_version": "1.5.0",
            "_view_name": "ProgressView",
            "bar_style": "success",
            "description": "",
            "description_tooltip": null,
            "layout": "IPY_MODEL_1e006d0c249846c0a9aee50cf5ca7bf2",
            "max": 456318,
            "min": 0,
            "orientation": "horizontal",
            "style": "IPY_MODEL_ffdfdf8d2c4d4e90a6b53ad38d10d542",
            "value": 456318
          }
        },
        "4422d044950f454ca26ad088ed4dfdf7": {
          "model_module": "@jupyter-widgets/controls",
          "model_name": "HTMLModel",
          "model_module_version": "1.5.0",
          "state": {
            "_dom_classes": [],
            "_model_module": "@jupyter-widgets/controls",
            "_model_module_version": "1.5.0",
            "_model_name": "HTMLModel",
            "_view_count": null,
            "_view_module": "@jupyter-widgets/controls",
            "_view_module_version": "1.5.0",
            "_view_name": "HTMLView",
            "description": "",
            "description_tooltip": null,
            "layout": "IPY_MODEL_217b189f80784117a97708ed2b9745b9",
            "placeholder": "​",
            "style": "IPY_MODEL_110025266689406fb9c3f92a07305ff2",
            "value": " 456k/456k [00:00&lt;00:00, 11.0MB/s]"
          }
        },
        "4f884795779e45389da670416be05548": {
          "model_module": "@jupyter-widgets/base",
          "model_name": "LayoutModel",
          "model_module_version": "1.2.0",
          "state": {
            "_model_module": "@jupyter-widgets/base",
            "_model_module_version": "1.2.0",
            "_model_name": "LayoutModel",
            "_view_count": null,
            "_view_module": "@jupyter-widgets/base",
            "_view_module_version": "1.2.0",
            "_view_name": "LayoutView",
            "align_content": null,
            "align_items": null,
            "align_self": null,
            "border": null,
            "bottom": null,
            "display": null,
            "flex": null,
            "flex_flow": null,
            "grid_area": null,
            "grid_auto_columns": null,
            "grid_auto_flow": null,
            "grid_auto_rows": null,
            "grid_column": null,
            "grid_gap": null,
            "grid_row": null,
            "grid_template_areas": null,
            "grid_template_columns": null,
            "grid_template_rows": null,
            "height": null,
            "justify_content": null,
            "justify_items": null,
            "left": null,
            "margin": null,
            "max_height": null,
            "max_width": null,
            "min_height": null,
            "min_width": null,
            "object_fit": null,
            "object_position": null,
            "order": null,
            "overflow": null,
            "overflow_x": null,
            "overflow_y": null,
            "padding": null,
            "right": null,
            "top": null,
            "visibility": null,
            "width": null
          }
        },
        "de898dfefc4f4519ae6853362361fba2": {
          "model_module": "@jupyter-widgets/base",
          "model_name": "LayoutModel",
          "model_module_version": "1.2.0",
          "state": {
            "_model_module": "@jupyter-widgets/base",
            "_model_module_version": "1.2.0",
            "_model_name": "LayoutModel",
            "_view_count": null,
            "_view_module": "@jupyter-widgets/base",
            "_view_module_version": "1.2.0",
            "_view_name": "LayoutView",
            "align_content": null,
            "align_items": null,
            "align_self": null,
            "border": null,
            "bottom": null,
            "display": null,
            "flex": null,
            "flex_flow": null,
            "grid_area": null,
            "grid_auto_columns": null,
            "grid_auto_flow": null,
            "grid_auto_rows": null,
            "grid_column": null,
            "grid_gap": null,
            "grid_row": null,
            "grid_template_areas": null,
            "grid_template_columns": null,
            "grid_template_rows": null,
            "height": null,
            "justify_content": null,
            "justify_items": null,
            "left": null,
            "margin": null,
            "max_height": null,
            "max_width": null,
            "min_height": null,
            "min_width": null,
            "object_fit": null,
            "object_position": null,
            "order": null,
            "overflow": null,
            "overflow_x": null,
            "overflow_y": null,
            "padding": null,
            "right": null,
            "top": null,
            "visibility": null,
            "width": null
          }
        },
        "ad4de74fc2ac4a14909d74f77411ce58": {
          "model_module": "@jupyter-widgets/controls",
          "model_name": "DescriptionStyleModel",
          "model_module_version": "1.5.0",
          "state": {
            "_model_module": "@jupyter-widgets/controls",
            "_model_module_version": "1.5.0",
            "_model_name": "DescriptionStyleModel",
            "_view_count": null,
            "_view_module": "@jupyter-widgets/base",
            "_view_module_version": "1.2.0",
            "_view_name": "StyleView",
            "description_width": ""
          }
        },
        "1e006d0c249846c0a9aee50cf5ca7bf2": {
          "model_module": "@jupyter-widgets/base",
          "model_name": "LayoutModel",
          "model_module_version": "1.2.0",
          "state": {
            "_model_module": "@jupyter-widgets/base",
            "_model_module_version": "1.2.0",
            "_model_name": "LayoutModel",
            "_view_count": null,
            "_view_module": "@jupyter-widgets/base",
            "_view_module_version": "1.2.0",
            "_view_name": "LayoutView",
            "align_content": null,
            "align_items": null,
            "align_self": null,
            "border": null,
            "bottom": null,
            "display": null,
            "flex": null,
            "flex_flow": null,
            "grid_area": null,
            "grid_auto_columns": null,
            "grid_auto_flow": null,
            "grid_auto_rows": null,
            "grid_column": null,
            "grid_gap": null,
            "grid_row": null,
            "grid_template_areas": null,
            "grid_template_columns": null,
            "grid_template_rows": null,
            "height": null,
            "justify_content": null,
            "justify_items": null,
            "left": null,
            "margin": null,
            "max_height": null,
            "max_width": null,
            "min_height": null,
            "min_width": null,
            "object_fit": null,
            "object_position": null,
            "order": null,
            "overflow": null,
            "overflow_x": null,
            "overflow_y": null,
            "padding": null,
            "right": null,
            "top": null,
            "visibility": null,
            "width": null
          }
        },
        "ffdfdf8d2c4d4e90a6b53ad38d10d542": {
          "model_module": "@jupyter-widgets/controls",
          "model_name": "ProgressStyleModel",
          "model_module_version": "1.5.0",
          "state": {
            "_model_module": "@jupyter-widgets/controls",
            "_model_module_version": "1.5.0",
            "_model_name": "ProgressStyleModel",
            "_view_count": null,
            "_view_module": "@jupyter-widgets/base",
            "_view_module_version": "1.2.0",
            "_view_name": "StyleView",
            "bar_color": null,
            "description_width": ""
          }
        },
        "217b189f80784117a97708ed2b9745b9": {
          "model_module": "@jupyter-widgets/base",
          "model_name": "LayoutModel",
          "model_module_version": "1.2.0",
          "state": {
            "_model_module": "@jupyter-widgets/base",
            "_model_module_version": "1.2.0",
            "_model_name": "LayoutModel",
            "_view_count": null,
            "_view_module": "@jupyter-widgets/base",
            "_view_module_version": "1.2.0",
            "_view_name": "LayoutView",
            "align_content": null,
            "align_items": null,
            "align_self": null,
            "border": null,
            "bottom": null,
            "display": null,
            "flex": null,
            "flex_flow": null,
            "grid_area": null,
            "grid_auto_columns": null,
            "grid_auto_flow": null,
            "grid_auto_rows": null,
            "grid_column": null,
            "grid_gap": null,
            "grid_row": null,
            "grid_template_areas": null,
            "grid_template_columns": null,
            "grid_template_rows": null,
            "height": null,
            "justify_content": null,
            "justify_items": null,
            "left": null,
            "margin": null,
            "max_height": null,
            "max_width": null,
            "min_height": null,
            "min_width": null,
            "object_fit": null,
            "object_position": null,
            "order": null,
            "overflow": null,
            "overflow_x": null,
            "overflow_y": null,
            "padding": null,
            "right": null,
            "top": null,
            "visibility": null,
            "width": null
          }
        },
        "110025266689406fb9c3f92a07305ff2": {
          "model_module": "@jupyter-widgets/controls",
          "model_name": "DescriptionStyleModel",
          "model_module_version": "1.5.0",
          "state": {
            "_model_module": "@jupyter-widgets/controls",
            "_model_module_version": "1.5.0",
            "_model_name": "DescriptionStyleModel",
            "_view_count": null,
            "_view_module": "@jupyter-widgets/base",
            "_view_module_version": "1.2.0",
            "_view_name": "StyleView",
            "description_width": ""
          }
        },
        "8af18b0081614c59b887826158a8e372": {
          "model_module": "@jupyter-widgets/controls",
          "model_name": "HBoxModel",
          "model_module_version": "1.5.0",
          "state": {
            "_dom_classes": [],
            "_model_module": "@jupyter-widgets/controls",
            "_model_module_version": "1.5.0",
            "_model_name": "HBoxModel",
            "_view_count": null,
            "_view_module": "@jupyter-widgets/controls",
            "_view_module_version": "1.5.0",
            "_view_name": "HBoxView",
            "box_style": "",
            "children": [
              "IPY_MODEL_52afe5d856e4407cb1a570d7e11bab32",
              "IPY_MODEL_d38b6c371bd44aefa0c18c8ce9d50287",
              "IPY_MODEL_8101233d77224819a707023aecf0dacc"
            ],
            "layout": "IPY_MODEL_1d92f2c807fe42b3b3fe92cdda8df1d3"
          }
        },
        "52afe5d856e4407cb1a570d7e11bab32": {
          "model_module": "@jupyter-widgets/controls",
          "model_name": "HTMLModel",
          "model_module_version": "1.5.0",
          "state": {
            "_dom_classes": [],
            "_model_module": "@jupyter-widgets/controls",
            "_model_module_version": "1.5.0",
            "_model_name": "HTMLModel",
            "_view_count": null,
            "_view_module": "@jupyter-widgets/controls",
            "_view_module_version": "1.5.0",
            "_view_name": "HTMLView",
            "description": "",
            "description_tooltip": null,
            "layout": "IPY_MODEL_2204b579cf944abfb101b3e16b30125d",
            "placeholder": "​",
            "style": "IPY_MODEL_ea69bbec9526446c99c0ed980a918681",
            "value": "tokenizer.json: 100%"
          }
        },
        "d38b6c371bd44aefa0c18c8ce9d50287": {
          "model_module": "@jupyter-widgets/controls",
          "model_name": "FloatProgressModel",
          "model_module_version": "1.5.0",
          "state": {
            "_dom_classes": [],
            "_model_module": "@jupyter-widgets/controls",
            "_model_module_version": "1.5.0",
            "_model_name": "FloatProgressModel",
            "_view_count": null,
            "_view_module": "@jupyter-widgets/controls",
            "_view_module_version": "1.5.0",
            "_view_name": "ProgressView",
            "bar_style": "success",
            "description": "",
            "description_tooltip": null,
            "layout": "IPY_MODEL_a614f90dabbe46e6b21f6907e6ceb2d4",
            "max": 1355256,
            "min": 0,
            "orientation": "horizontal",
            "style": "IPY_MODEL_6b40c28d21e34399802cf6445e4c7c7c",
            "value": 1355256
          }
        },
        "8101233d77224819a707023aecf0dacc": {
          "model_module": "@jupyter-widgets/controls",
          "model_name": "HTMLModel",
          "model_module_version": "1.5.0",
          "state": {
            "_dom_classes": [],
            "_model_module": "@jupyter-widgets/controls",
            "_model_module_version": "1.5.0",
            "_model_name": "HTMLModel",
            "_view_count": null,
            "_view_module": "@jupyter-widgets/controls",
            "_view_module_version": "1.5.0",
            "_view_name": "HTMLView",
            "description": "",
            "description_tooltip": null,
            "layout": "IPY_MODEL_ae03c55836574aed9c4ea84d558694fd",
            "placeholder": "​",
            "style": "IPY_MODEL_973e6ffe424f4796b9e3a82ff7f6293e",
            "value": " 1.36M/1.36M [00:00&lt;00:00, 21.3MB/s]"
          }
        },
        "1d92f2c807fe42b3b3fe92cdda8df1d3": {
          "model_module": "@jupyter-widgets/base",
          "model_name": "LayoutModel",
          "model_module_version": "1.2.0",
          "state": {
            "_model_module": "@jupyter-widgets/base",
            "_model_module_version": "1.2.0",
            "_model_name": "LayoutModel",
            "_view_count": null,
            "_view_module": "@jupyter-widgets/base",
            "_view_module_version": "1.2.0",
            "_view_name": "LayoutView",
            "align_content": null,
            "align_items": null,
            "align_self": null,
            "border": null,
            "bottom": null,
            "display": null,
            "flex": null,
            "flex_flow": null,
            "grid_area": null,
            "grid_auto_columns": null,
            "grid_auto_flow": null,
            "grid_auto_rows": null,
            "grid_column": null,
            "grid_gap": null,
            "grid_row": null,
            "grid_template_areas": null,
            "grid_template_columns": null,
            "grid_template_rows": null,
            "height": null,
            "justify_content": null,
            "justify_items": null,
            "left": null,
            "margin": null,
            "max_height": null,
            "max_width": null,
            "min_height": null,
            "min_width": null,
            "object_fit": null,
            "object_position": null,
            "order": null,
            "overflow": null,
            "overflow_x": null,
            "overflow_y": null,
            "padding": null,
            "right": null,
            "top": null,
            "visibility": null,
            "width": null
          }
        },
        "2204b579cf944abfb101b3e16b30125d": {
          "model_module": "@jupyter-widgets/base",
          "model_name": "LayoutModel",
          "model_module_version": "1.2.0",
          "state": {
            "_model_module": "@jupyter-widgets/base",
            "_model_module_version": "1.2.0",
            "_model_name": "LayoutModel",
            "_view_count": null,
            "_view_module": "@jupyter-widgets/base",
            "_view_module_version": "1.2.0",
            "_view_name": "LayoutView",
            "align_content": null,
            "align_items": null,
            "align_self": null,
            "border": null,
            "bottom": null,
            "display": null,
            "flex": null,
            "flex_flow": null,
            "grid_area": null,
            "grid_auto_columns": null,
            "grid_auto_flow": null,
            "grid_auto_rows": null,
            "grid_column": null,
            "grid_gap": null,
            "grid_row": null,
            "grid_template_areas": null,
            "grid_template_columns": null,
            "grid_template_rows": null,
            "height": null,
            "justify_content": null,
            "justify_items": null,
            "left": null,
            "margin": null,
            "max_height": null,
            "max_width": null,
            "min_height": null,
            "min_width": null,
            "object_fit": null,
            "object_position": null,
            "order": null,
            "overflow": null,
            "overflow_x": null,
            "overflow_y": null,
            "padding": null,
            "right": null,
            "top": null,
            "visibility": null,
            "width": null
          }
        },
        "ea69bbec9526446c99c0ed980a918681": {
          "model_module": "@jupyter-widgets/controls",
          "model_name": "DescriptionStyleModel",
          "model_module_version": "1.5.0",
          "state": {
            "_model_module": "@jupyter-widgets/controls",
            "_model_module_version": "1.5.0",
            "_model_name": "DescriptionStyleModel",
            "_view_count": null,
            "_view_module": "@jupyter-widgets/base",
            "_view_module_version": "1.2.0",
            "_view_name": "StyleView",
            "description_width": ""
          }
        },
        "a614f90dabbe46e6b21f6907e6ceb2d4": {
          "model_module": "@jupyter-widgets/base",
          "model_name": "LayoutModel",
          "model_module_version": "1.2.0",
          "state": {
            "_model_module": "@jupyter-widgets/base",
            "_model_module_version": "1.2.0",
            "_model_name": "LayoutModel",
            "_view_count": null,
            "_view_module": "@jupyter-widgets/base",
            "_view_module_version": "1.2.0",
            "_view_name": "LayoutView",
            "align_content": null,
            "align_items": null,
            "align_self": null,
            "border": null,
            "bottom": null,
            "display": null,
            "flex": null,
            "flex_flow": null,
            "grid_area": null,
            "grid_auto_columns": null,
            "grid_auto_flow": null,
            "grid_auto_rows": null,
            "grid_column": null,
            "grid_gap": null,
            "grid_row": null,
            "grid_template_areas": null,
            "grid_template_columns": null,
            "grid_template_rows": null,
            "height": null,
            "justify_content": null,
            "justify_items": null,
            "left": null,
            "margin": null,
            "max_height": null,
            "max_width": null,
            "min_height": null,
            "min_width": null,
            "object_fit": null,
            "object_position": null,
            "order": null,
            "overflow": null,
            "overflow_x": null,
            "overflow_y": null,
            "padding": null,
            "right": null,
            "top": null,
            "visibility": null,
            "width": null
          }
        },
        "6b40c28d21e34399802cf6445e4c7c7c": {
          "model_module": "@jupyter-widgets/controls",
          "model_name": "ProgressStyleModel",
          "model_module_version": "1.5.0",
          "state": {
            "_model_module": "@jupyter-widgets/controls",
            "_model_module_version": "1.5.0",
            "_model_name": "ProgressStyleModel",
            "_view_count": null,
            "_view_module": "@jupyter-widgets/base",
            "_view_module_version": "1.2.0",
            "_view_name": "StyleView",
            "bar_color": null,
            "description_width": ""
          }
        },
        "ae03c55836574aed9c4ea84d558694fd": {
          "model_module": "@jupyter-widgets/base",
          "model_name": "LayoutModel",
          "model_module_version": "1.2.0",
          "state": {
            "_model_module": "@jupyter-widgets/base",
            "_model_module_version": "1.2.0",
            "_model_name": "LayoutModel",
            "_view_count": null,
            "_view_module": "@jupyter-widgets/base",
            "_view_module_version": "1.2.0",
            "_view_name": "LayoutView",
            "align_content": null,
            "align_items": null,
            "align_self": null,
            "border": null,
            "bottom": null,
            "display": null,
            "flex": null,
            "flex_flow": null,
            "grid_area": null,
            "grid_auto_columns": null,
            "grid_auto_flow": null,
            "grid_auto_rows": null,
            "grid_column": null,
            "grid_gap": null,
            "grid_row": null,
            "grid_template_areas": null,
            "grid_template_columns": null,
            "grid_template_rows": null,
            "height": null,
            "justify_content": null,
            "justify_items": null,
            "left": null,
            "margin": null,
            "max_height": null,
            "max_width": null,
            "min_height": null,
            "min_width": null,
            "object_fit": null,
            "object_position": null,
            "order": null,
            "overflow": null,
            "overflow_x": null,
            "overflow_y": null,
            "padding": null,
            "right": null,
            "top": null,
            "visibility": null,
            "width": null
          }
        },
        "973e6ffe424f4796b9e3a82ff7f6293e": {
          "model_module": "@jupyter-widgets/controls",
          "model_name": "DescriptionStyleModel",
          "model_module_version": "1.5.0",
          "state": {
            "_model_module": "@jupyter-widgets/controls",
            "_model_module_version": "1.5.0",
            "_model_name": "DescriptionStyleModel",
            "_view_count": null,
            "_view_module": "@jupyter-widgets/base",
            "_view_module_version": "1.2.0",
            "_view_name": "StyleView",
            "description_width": ""
          }
        },
        "c68540b0d01949eb86985f3de2f56b6b": {
          "model_module": "@jupyter-widgets/controls",
          "model_name": "HBoxModel",
          "model_module_version": "1.5.0",
          "state": {
            "_dom_classes": [],
            "_model_module": "@jupyter-widgets/controls",
            "_model_module_version": "1.5.0",
            "_model_name": "HBoxModel",
            "_view_count": null,
            "_view_module": "@jupyter-widgets/controls",
            "_view_module_version": "1.5.0",
            "_view_name": "HBoxView",
            "box_style": "",
            "children": [
              "IPY_MODEL_2b147c1bd1404225a8eff6ae3ce047e7",
              "IPY_MODEL_6af1c708b2284a888960d71aebedf04b",
              "IPY_MODEL_7bd11962fa4241ff8604837ef0dc6f20"
            ],
            "layout": "IPY_MODEL_f7dfdebfc38942fea6c2230d550dd61e"
          }
        },
        "2b147c1bd1404225a8eff6ae3ce047e7": {
          "model_module": "@jupyter-widgets/controls",
          "model_name": "HTMLModel",
          "model_module_version": "1.5.0",
          "state": {
            "_dom_classes": [],
            "_model_module": "@jupyter-widgets/controls",
            "_model_module_version": "1.5.0",
            "_model_name": "HTMLModel",
            "_view_count": null,
            "_view_module": "@jupyter-widgets/controls",
            "_view_module_version": "1.5.0",
            "_view_name": "HTMLView",
            "description": "",
            "description_tooltip": null,
            "layout": "IPY_MODEL_9c6286b0bb38426695153d604aedf38a",
            "placeholder": "​",
            "style": "IPY_MODEL_7d20fd558b334abf88d4fc73063a098a",
            "value": "config.json: 100%"
          }
        },
        "6af1c708b2284a888960d71aebedf04b": {
          "model_module": "@jupyter-widgets/controls",
          "model_name": "FloatProgressModel",
          "model_module_version": "1.5.0",
          "state": {
            "_dom_classes": [],
            "_model_module": "@jupyter-widgets/controls",
            "_model_module_version": "1.5.0",
            "_model_name": "FloatProgressModel",
            "_view_count": null,
            "_view_module": "@jupyter-widgets/controls",
            "_view_module_version": "1.5.0",
            "_view_name": "ProgressView",
            "bar_style": "success",
            "description": "",
            "description_tooltip": null,
            "layout": "IPY_MODEL_6f2209fd0e754efca23da173efc3d830",
            "max": 665,
            "min": 0,
            "orientation": "horizontal",
            "style": "IPY_MODEL_d4639ded36fd4a8290ff144d2aa2df4d",
            "value": 665
          }
        },
        "7bd11962fa4241ff8604837ef0dc6f20": {
          "model_module": "@jupyter-widgets/controls",
          "model_name": "HTMLModel",
          "model_module_version": "1.5.0",
          "state": {
            "_dom_classes": [],
            "_model_module": "@jupyter-widgets/controls",
            "_model_module_version": "1.5.0",
            "_model_name": "HTMLModel",
            "_view_count": null,
            "_view_module": "@jupyter-widgets/controls",
            "_view_module_version": "1.5.0",
            "_view_name": "HTMLView",
            "description": "",
            "description_tooltip": null,
            "layout": "IPY_MODEL_3999e8c7bc7d4c85ac987fe3447aa94a",
            "placeholder": "​",
            "style": "IPY_MODEL_7835c2880d224f7da474eba80b696ab4",
            "value": " 665/665 [00:00&lt;00:00, 29.0kB/s]"
          }
        },
        "f7dfdebfc38942fea6c2230d550dd61e": {
          "model_module": "@jupyter-widgets/base",
          "model_name": "LayoutModel",
          "model_module_version": "1.2.0",
          "state": {
            "_model_module": "@jupyter-widgets/base",
            "_model_module_version": "1.2.0",
            "_model_name": "LayoutModel",
            "_view_count": null,
            "_view_module": "@jupyter-widgets/base",
            "_view_module_version": "1.2.0",
            "_view_name": "LayoutView",
            "align_content": null,
            "align_items": null,
            "align_self": null,
            "border": null,
            "bottom": null,
            "display": null,
            "flex": null,
            "flex_flow": null,
            "grid_area": null,
            "grid_auto_columns": null,
            "grid_auto_flow": null,
            "grid_auto_rows": null,
            "grid_column": null,
            "grid_gap": null,
            "grid_row": null,
            "grid_template_areas": null,
            "grid_template_columns": null,
            "grid_template_rows": null,
            "height": null,
            "justify_content": null,
            "justify_items": null,
            "left": null,
            "margin": null,
            "max_height": null,
            "max_width": null,
            "min_height": null,
            "min_width": null,
            "object_fit": null,
            "object_position": null,
            "order": null,
            "overflow": null,
            "overflow_x": null,
            "overflow_y": null,
            "padding": null,
            "right": null,
            "top": null,
            "visibility": null,
            "width": null
          }
        },
        "9c6286b0bb38426695153d604aedf38a": {
          "model_module": "@jupyter-widgets/base",
          "model_name": "LayoutModel",
          "model_module_version": "1.2.0",
          "state": {
            "_model_module": "@jupyter-widgets/base",
            "_model_module_version": "1.2.0",
            "_model_name": "LayoutModel",
            "_view_count": null,
            "_view_module": "@jupyter-widgets/base",
            "_view_module_version": "1.2.0",
            "_view_name": "LayoutView",
            "align_content": null,
            "align_items": null,
            "align_self": null,
            "border": null,
            "bottom": null,
            "display": null,
            "flex": null,
            "flex_flow": null,
            "grid_area": null,
            "grid_auto_columns": null,
            "grid_auto_flow": null,
            "grid_auto_rows": null,
            "grid_column": null,
            "grid_gap": null,
            "grid_row": null,
            "grid_template_areas": null,
            "grid_template_columns": null,
            "grid_template_rows": null,
            "height": null,
            "justify_content": null,
            "justify_items": null,
            "left": null,
            "margin": null,
            "max_height": null,
            "max_width": null,
            "min_height": null,
            "min_width": null,
            "object_fit": null,
            "object_position": null,
            "order": null,
            "overflow": null,
            "overflow_x": null,
            "overflow_y": null,
            "padding": null,
            "right": null,
            "top": null,
            "visibility": null,
            "width": null
          }
        },
        "7d20fd558b334abf88d4fc73063a098a": {
          "model_module": "@jupyter-widgets/controls",
          "model_name": "DescriptionStyleModel",
          "model_module_version": "1.5.0",
          "state": {
            "_model_module": "@jupyter-widgets/controls",
            "_model_module_version": "1.5.0",
            "_model_name": "DescriptionStyleModel",
            "_view_count": null,
            "_view_module": "@jupyter-widgets/base",
            "_view_module_version": "1.2.0",
            "_view_name": "StyleView",
            "description_width": ""
          }
        },
        "6f2209fd0e754efca23da173efc3d830": {
          "model_module": "@jupyter-widgets/base",
          "model_name": "LayoutModel",
          "model_module_version": "1.2.0",
          "state": {
            "_model_module": "@jupyter-widgets/base",
            "_model_module_version": "1.2.0",
            "_model_name": "LayoutModel",
            "_view_count": null,
            "_view_module": "@jupyter-widgets/base",
            "_view_module_version": "1.2.0",
            "_view_name": "LayoutView",
            "align_content": null,
            "align_items": null,
            "align_self": null,
            "border": null,
            "bottom": null,
            "display": null,
            "flex": null,
            "flex_flow": null,
            "grid_area": null,
            "grid_auto_columns": null,
            "grid_auto_flow": null,
            "grid_auto_rows": null,
            "grid_column": null,
            "grid_gap": null,
            "grid_row": null,
            "grid_template_areas": null,
            "grid_template_columns": null,
            "grid_template_rows": null,
            "height": null,
            "justify_content": null,
            "justify_items": null,
            "left": null,
            "margin": null,
            "max_height": null,
            "max_width": null,
            "min_height": null,
            "min_width": null,
            "object_fit": null,
            "object_position": null,
            "order": null,
            "overflow": null,
            "overflow_x": null,
            "overflow_y": null,
            "padding": null,
            "right": null,
            "top": null,
            "visibility": null,
            "width": null
          }
        },
        "d4639ded36fd4a8290ff144d2aa2df4d": {
          "model_module": "@jupyter-widgets/controls",
          "model_name": "ProgressStyleModel",
          "model_module_version": "1.5.0",
          "state": {
            "_model_module": "@jupyter-widgets/controls",
            "_model_module_version": "1.5.0",
            "_model_name": "ProgressStyleModel",
            "_view_count": null,
            "_view_module": "@jupyter-widgets/base",
            "_view_module_version": "1.2.0",
            "_view_name": "StyleView",
            "bar_color": null,
            "description_width": ""
          }
        },
        "3999e8c7bc7d4c85ac987fe3447aa94a": {
          "model_module": "@jupyter-widgets/base",
          "model_name": "LayoutModel",
          "model_module_version": "1.2.0",
          "state": {
            "_model_module": "@jupyter-widgets/base",
            "_model_module_version": "1.2.0",
            "_model_name": "LayoutModel",
            "_view_count": null,
            "_view_module": "@jupyter-widgets/base",
            "_view_module_version": "1.2.0",
            "_view_name": "LayoutView",
            "align_content": null,
            "align_items": null,
            "align_self": null,
            "border": null,
            "bottom": null,
            "display": null,
            "flex": null,
            "flex_flow": null,
            "grid_area": null,
            "grid_auto_columns": null,
            "grid_auto_flow": null,
            "grid_auto_rows": null,
            "grid_column": null,
            "grid_gap": null,
            "grid_row": null,
            "grid_template_areas": null,
            "grid_template_columns": null,
            "grid_template_rows": null,
            "height": null,
            "justify_content": null,
            "justify_items": null,
            "left": null,
            "margin": null,
            "max_height": null,
            "max_width": null,
            "min_height": null,
            "min_width": null,
            "object_fit": null,
            "object_position": null,
            "order": null,
            "overflow": null,
            "overflow_x": null,
            "overflow_y": null,
            "padding": null,
            "right": null,
            "top": null,
            "visibility": null,
            "width": null
          }
        },
        "7835c2880d224f7da474eba80b696ab4": {
          "model_module": "@jupyter-widgets/controls",
          "model_name": "DescriptionStyleModel",
          "model_module_version": "1.5.0",
          "state": {
            "_model_module": "@jupyter-widgets/controls",
            "_model_module_version": "1.5.0",
            "_model_name": "DescriptionStyleModel",
            "_view_count": null,
            "_view_module": "@jupyter-widgets/base",
            "_view_module_version": "1.2.0",
            "_view_name": "StyleView",
            "description_width": ""
          }
        }
      }
    }
  },
  "cells": [
    {
      "cell_type": "markdown",
      "metadata": {
        "id": "view-in-github",
        "colab_type": "text"
      },
      "source": [
        "<a href=\"https://colab.research.google.com/github/praffuln/langchain/blob/master/langchain-2/langchain_22_InterviewQuestions.ipynb\" target=\"_parent\"><img src=\"https://colab.research.google.com/assets/colab-badge.svg\" alt=\"Open In Colab\"/></a>"
      ]
    },
    {
      "cell_type": "code",
      "execution_count": null,
      "metadata": {
        "id": "iWhZ9dCoWBVk"
      },
      "outputs": [],
      "source": [
        "!pip install langchain\n",
        "!pip install openAI\n",
        "!pip install wikipedia\n",
        "!pip install huggingface_hub\n",
        "!pip install InstructorEmbedding\n",
        "!pip install google-search-results\n",
        "!pip install unstructured\n",
        "!pip install libmagic\n",
        "!pip install python-magic\n",
        "!pip install python-magic-bin\n",
        "#Install faiss Packages\n",
        "!pip install faiss-cpu\n",
        "!pip install sentence-transformers\n",
        "!pip install wolframalpha\n",
        "!pip install pypdf\n",
        "!pip install youtube-transcript-api\n",
        "!pip install pytube\n",
        "!pip install python-dotenv\n",
        "!pip install pinecone-client\n",
        "!pip install kor\n",
        "!pip install markdownify\n",
        "!pip install langchain_google_genai\n"
      ]
    },
    {
      "cell_type": "markdown",
      "source": [
        "# API KEY"
      ],
      "metadata": {
        "id": "q_tUFWn6YZ7u"
      }
    },
    {
      "cell_type": "code",
      "source": [
        "os.environ[\"GOOGLE_API_KEY\"] = ''\n",
        "\n",
        "# Replace these values with your own Twitter API credentials\n",
        "TWITTER_API_KEY = ''\n",
        "TWITTER_API_KEY_SECRET = ''\n",
        "TWITTER_ACCESS_TOKEN = ''\n",
        "TWITTER_ACCESS_TOKEN_SECRET = ''\n",
        "\n"
      ],
      "metadata": {
        "id": "Zau9M0-eYcSD"
      },
      "execution_count": 10,
      "outputs": []
    },
    {
      "cell_type": "markdown",
      "source": [
        "# Google AI chat models\n"
      ],
      "metadata": {
        "id": "DS1V9IWLAeTE"
      }
    },
    {
      "cell_type": "code",
      "source": [
        "import getpass\n",
        "import os\n",
        "from langchain_google_genai import ChatGoogleGenerativeAI\n",
        "\n",
        "\n"
      ],
      "metadata": {
        "id": "cEVJZkoPAtdu"
      },
      "execution_count": 11,
      "outputs": []
    },
    {
      "cell_type": "code",
      "source": [
        "llm = ChatGoogleGenerativeAI(model=\"gemini-pro\")\n",
        "result = llm.invoke(\"Write a ballad about LangChain\")\n",
        "print(result)\n",
        "print(result.content)\n",
        "\n",
        "\n"
      ],
      "metadata": {
        "id": "oxMvrCL-BA3k"
      },
      "execution_count": null,
      "outputs": []
    },
    {
      "cell_type": "markdown",
      "source": [
        "# Using LLMs To Summarize Personal Research\n",
        "\n",
        "Our goal is to have LLM aid us in generating interview quetions for someone. I find that I'm constantly trying to ramp up to a person's background and story when preparing to meet them.\n",
        "\n",
        "There is a ton of awesome resources about a person online we can use\n",
        "\n",
        "Twitter Profiles\n",
        "\n",
        "Websites\n",
        "\n",
        "Other Interviews (YouTube or Text)\n",
        "\n",
        "Let's bring all these together by first pulling the information and then generating questions or bullet points we can use as preparation.\n",
        "\n"
      ],
      "metadata": {
        "id": "knPERdPfVvpo"
      }
    },
    {
      "cell_type": "code",
      "source": [
        "# LLMs\n",
        "from langchain import PromptTemplate\n",
        "from langchain.llms import OpenAI\n",
        "from langchain.chat_models import ChatOpenAI\n",
        "from langchain.text_splitter import RecursiveCharacterTextSplitter\n",
        "from langchain.chains.summarize import load_summarize_chain\n",
        "from langchain.prompts import PromptTemplate\n",
        "\n",
        "# Twitter\n",
        "import tweepy\n",
        "\n",
        "# Scraping\n",
        "import requests\n",
        "from bs4 import BeautifulSoup\n",
        "from markdownify import markdownify as md\n",
        "\n",
        "# YouTube\n",
        "from langchain.document_loaders import YoutubeLoader\n",
        "# !pip install youtube-transcript-api\n",
        "\n",
        "# Environment Variables\n",
        "import os\n",
        "from dotenv import load_dotenv\n",
        "\n",
        "load_dotenv()\n"
      ],
      "metadata": {
        "colab": {
          "base_uri": "https://localhost:8080/"
        },
        "id": "PcAbeOXMV5IZ",
        "outputId": "a83eb9c0-cea4-493b-9406-bcf96fbb7eae"
      },
      "execution_count": 13,
      "outputs": [
        {
          "output_type": "execute_result",
          "data": {
            "text/plain": [
              "False"
            ]
          },
          "metadata": {},
          "execution_count": 13
        }
      ]
    },
    {
      "cell_type": "markdown",
      "source": [
        "# Pulling Data From Twitter\n",
        "Great, now let's set up a function that will pull tweets for us. This will help us get current events that the user is talking about. I'm excluding replies since they usually don't have a ton of high signal text from the user.  \n",
        "\n"
      ],
      "metadata": {
        "id": "W3nW1uWIWIrI"
      }
    },
    {
      "cell_type": "code",
      "source": [
        "def get_original_tweets(screen_name, tweets_to_pull=80, tweets_to_return=80):\n",
        "\n",
        "    # Tweepy set up\n",
        "    auth = tweepy.OAuthHandler(TWITTER_API_KEY, TWITTER_API_SECRET)\n",
        "    auth.set_access_token(TWITTER_ACCESS_TOKEN, TWITTER_ACCESS_TOKEN_SECRET)\n",
        "    api = tweepy.API(auth)\n",
        "\n",
        "    # Holder for the tweets you'll find\n",
        "    tweets = []\n",
        "\n",
        "    # Go and pull the tweets\n",
        "    tweepy_results = tweepy.Cursor(api.user_timeline,\n",
        "                                   screen_name=screen_name,\n",
        "                                   tweet_mode='extended',\n",
        "                                   exclude_replies=True).items(tweets_to_pull)\n",
        "\n",
        "    # Run through tweets and remove retweets and quote tweets so we can only look at a user's raw emotions\n",
        "    for status in tweepy_results:\n",
        "        if hasattr(status, 'retweeted_status') or hasattr(status, 'quoted_status'):\n",
        "            # Skip if it's a retweet or quote tweet\n",
        "            continue\n",
        "        else:\n",
        "            tweets.append({'full_text': status.full_text, 'likes': status.favorite_count})\n",
        "\n",
        "\n",
        "    # Sort the tweets by number of likes. This will help us short_list the top ones later\n",
        "    sorted_tweets = sorted(tweets, key=lambda x: x['likes'], reverse=True)\n",
        "\n",
        "    # Get the text and drop the like count from the dictionary\n",
        "    full_text = [x['full_text'] for x in sorted_tweets][:tweets_to_return]\n",
        "\n",
        "    # Convert the list of tweets into a string of tweets we can use in the prompt later\n",
        "    users_tweets = \"\\n\\n\".join(full_text)\n",
        "\n",
        "    return users_tweets\n"
      ],
      "metadata": {
        "id": "u3Tfe4hYWMKq"
      },
      "execution_count": 14,
      "outputs": []
    },
    {
      "cell_type": "code",
      "source": [
        "user_tweets = get_original_tweets(\"eladgil\")\n",
        "print (user_tweets[:300])\n"
      ],
      "metadata": {
        "colab": {
          "base_uri": "https://localhost:8080/",
          "height": 314
        },
        "id": "zCLsz6O0WUb4",
        "outputId": "2669a64a-61a9-45ec-99aa-9cdd208d5f42"
      },
      "execution_count": 15,
      "outputs": [
        {
          "output_type": "error",
          "ename": "NameError",
          "evalue": "ignored",
          "traceback": [
            "\u001b[0;31m---------------------------------------------------------------------------\u001b[0m",
            "\u001b[0;31mNameError\u001b[0m                                 Traceback (most recent call last)",
            "\u001b[0;32m<ipython-input-15-1258b9a4d7b0>\u001b[0m in \u001b[0;36m<cell line: 1>\u001b[0;34m()\u001b[0m\n\u001b[0;32m----> 1\u001b[0;31m \u001b[0muser_tweets\u001b[0m \u001b[0;34m=\u001b[0m \u001b[0mget_original_tweets\u001b[0m\u001b[0;34m(\u001b[0m\u001b[0;34m\"eladgil\"\u001b[0m\u001b[0;34m)\u001b[0m\u001b[0;34m\u001b[0m\u001b[0;34m\u001b[0m\u001b[0m\n\u001b[0m\u001b[1;32m      2\u001b[0m \u001b[0mprint\u001b[0m \u001b[0;34m(\u001b[0m\u001b[0muser_tweets\u001b[0m\u001b[0;34m[\u001b[0m\u001b[0;34m:\u001b[0m\u001b[0;36m300\u001b[0m\u001b[0;34m]\u001b[0m\u001b[0;34m)\u001b[0m\u001b[0;34m\u001b[0m\u001b[0;34m\u001b[0m\u001b[0m\n",
            "\u001b[0;32m<ipython-input-14-64f403af51a0>\u001b[0m in \u001b[0;36mget_original_tweets\u001b[0;34m(screen_name, tweets_to_pull, tweets_to_return)\u001b[0m\n\u001b[1;32m      2\u001b[0m \u001b[0;34m\u001b[0m\u001b[0m\n\u001b[1;32m      3\u001b[0m     \u001b[0;31m# Tweepy set up\u001b[0m\u001b[0;34m\u001b[0m\u001b[0;34m\u001b[0m\u001b[0m\n\u001b[0;32m----> 4\u001b[0;31m     \u001b[0mauth\u001b[0m \u001b[0;34m=\u001b[0m \u001b[0mtweepy\u001b[0m\u001b[0;34m.\u001b[0m\u001b[0mOAuthHandler\u001b[0m\u001b[0;34m(\u001b[0m\u001b[0mTWITTER_API_KEY\u001b[0m\u001b[0;34m,\u001b[0m \u001b[0mTWITTER_API_SECRET\u001b[0m\u001b[0;34m)\u001b[0m\u001b[0;34m\u001b[0m\u001b[0;34m\u001b[0m\u001b[0m\n\u001b[0m\u001b[1;32m      5\u001b[0m     \u001b[0mauth\u001b[0m\u001b[0;34m.\u001b[0m\u001b[0mset_access_token\u001b[0m\u001b[0;34m(\u001b[0m\u001b[0mTWITTER_ACCESS_TOKEN\u001b[0m\u001b[0;34m,\u001b[0m \u001b[0mTWITTER_ACCESS_TOKEN_SECRET\u001b[0m\u001b[0;34m)\u001b[0m\u001b[0;34m\u001b[0m\u001b[0;34m\u001b[0m\u001b[0m\n\u001b[1;32m      6\u001b[0m     \u001b[0mapi\u001b[0m \u001b[0;34m=\u001b[0m \u001b[0mtweepy\u001b[0m\u001b[0;34m.\u001b[0m\u001b[0mAPI\u001b[0m\u001b[0;34m(\u001b[0m\u001b[0mauth\u001b[0m\u001b[0;34m)\u001b[0m\u001b[0;34m\u001b[0m\u001b[0;34m\u001b[0m\u001b[0m\n",
            "\u001b[0;31mNameError\u001b[0m: name 'TWITTER_API_SECRET' is not defined"
          ]
        }
      ]
    },
    {
      "cell_type": "markdown",
      "source": [
        "# Pulling Data From Websites\n",
        "Let's do two pages\n",
        "\n",
        "His personal website which has his background - https://eladgil.com/\n",
        "One of my favorite blog posts from him around AI defensibility & moats - https://blog.eladgil.com/p/defensibility-and-competition\n",
        "First let's create a function that will scrape a website for us.\n",
        "\n",
        "We'll do this by pulling the raw html, put it in a BeautifulSoup object, then convert that object to Markdown for better parsing\n",
        "\n"
      ],
      "metadata": {
        "id": "64Ug1N-4WdrK"
      }
    },
    {
      "cell_type": "code",
      "source": [
        "def pull_from_website(url):\n",
        "\n",
        "    # Doing a try in case it doesn't work\n",
        "    try:\n",
        "        response = requests.get(url)\n",
        "    except:\n",
        "        # In case it doesn't work\n",
        "        print (\"Whoops, error\")\n",
        "        return\n",
        "\n",
        "    # Put your response in a beautiful soup\n",
        "    soup = BeautifulSoup(response.text, 'html.parser')\n",
        "\n",
        "    # Get your text\n",
        "    text = soup.get_text()\n",
        "\n",
        "    # Convert your html to markdown. This reduces tokens and noise\n",
        "    text = md(text)\n",
        "\n",
        "    return text\n"
      ],
      "metadata": {
        "id": "WR5ZJo5lfMzY"
      },
      "execution_count": 16,
      "outputs": []
    },
    {
      "cell_type": "code",
      "source": [
        "# I'm going to store my website data in a simple string.\n",
        "# There is likely optimization to make this better but it's a solid 80% solution\n",
        "\n",
        "website_data = \"\"\n",
        "urls = [\"https://eladgil.com/\", \"https://blog.eladgil.com/p/defensibility-and-competition\"]\n",
        "\n",
        "for url in urls:\n",
        "    text = pull_from_website(url)\n",
        "\n",
        "    website_data += text\n"
      ],
      "metadata": {
        "id": "DgDtIkjofRTv"
      },
      "execution_count": 17,
      "outputs": []
    },
    {
      "cell_type": "code",
      "source": [
        "print (website_data[:400])\n"
      ],
      "metadata": {
        "id": "zh0tk1LIfTmR"
      },
      "execution_count": null,
      "outputs": []
    },
    {
      "cell_type": "markdown",
      "source": [
        "# Pulling Data From YouTube\n",
        "We'll use LangChains YouTube loaders for this. It only works if there is a transcript on the YT video already, if there isn't then we'll move on. You could get the transcript via Whisper if you really wanted to, but that's out of scope for today.\n",
        "\n",
        "We'll make a function we can use to loop through videos\n",
        "\n"
      ],
      "metadata": {
        "id": "fjek9u0egt8B"
      }
    },
    {
      "cell_type": "code",
      "source": [
        "# Pulling data from YouTube in text form\n",
        "def get_video_transcripts(url):\n",
        "    loader = YoutubeLoader.from_youtube_url(url, add_video_info=True)\n",
        "    documents = loader.load()\n",
        "    transcript = ' '.join([doc.page_content for doc in documents])\n",
        "    return transcript\n"
      ],
      "metadata": {
        "id": "P1Zz3QaXgviu"
      },
      "execution_count": 19,
      "outputs": []
    },
    {
      "cell_type": "code",
      "source": [
        "# Using a regular string to store the youtube transcript data\n",
        "# Video selection will be important.\n",
        "# Parsing interviews is a whole other can of worms so I'm opting for one where Elad is mostly talking about himself\n",
        "video_urls = ['https://www.youtube.com/watch?v=nglHX4B33_o']\n",
        "videos_text = \"\"\n",
        "\n",
        "for video_url in video_urls:\n",
        "    video_text = get_video_transcripts(video_url)\n",
        "\n",
        "    videos_text += video_text\n"
      ],
      "metadata": {
        "id": "9ophjE3wgyjY"
      },
      "execution_count": 20,
      "outputs": []
    },
    {
      "cell_type": "markdown",
      "source": [
        "Let's look at at sample from the video\n",
        "\n"
      ],
      "metadata": {
        "id": "bPddCC3Jg2HV"
      }
    },
    {
      "cell_type": "code",
      "source": [
        "print(video_text[:300])\n"
      ],
      "metadata": {
        "colab": {
          "base_uri": "https://localhost:8080/"
        },
        "id": "z4NWHoc1g32O",
        "outputId": "ac5bd5f3-ce0b-46c3-dfce-564f27af6cf6"
      },
      "execution_count": 21,
      "outputs": [
        {
          "output_type": "stream",
          "name": "stdout",
          "text": [
            "I like to say that startups are an act of desperation and the desperation went out of the ecosystem over the last two or three years and we just had people showing up for the status and the money and now I think it's getting back to people who are doing it for a variety of reasons including the impa\n"
          ]
        }
      ]
    },
    {
      "cell_type": "code",
      "source": [
        "user_information =  website_data + video_text\n"
      ],
      "metadata": {
        "id": "HCBVic8chA4Y"
      },
      "execution_count": 22,
      "outputs": []
    },
    {
      "cell_type": "markdown",
      "source": [
        "Our user_information variable is a big messy wall of text. Ideally we would clean this up more and try to increase the signal to noise ratio. However for this project we'll just focus on the core use case of gathering data.\n",
        "\n",
        "Next we'll chunk our wall of text into pieces so we can do a map_reduce process on it. If you want learn more about techniques to split up your data  \n",
        "\n"
      ],
      "metadata": {
        "id": "aSoTNqyDhMyy"
      }
    },
    {
      "cell_type": "code",
      "source": [
        "# First we make our text splitter\n",
        "text_splitter = RecursiveCharacterTextSplitter(chunk_size=1000, chunk_overlap=500)\n"
      ],
      "metadata": {
        "id": "mGYI-aRUhQLH"
      },
      "execution_count": 28,
      "outputs": []
    },
    {
      "cell_type": "code",
      "source": [
        "# Then we split our user information into different documents\n",
        "docs = text_splitter.create_documents([user_information])\n"
      ],
      "metadata": {
        "id": "wq9yP8vvhSeN"
      },
      "execution_count": 29,
      "outputs": []
    },
    {
      "cell_type": "code",
      "source": [
        "# Let's see how many documents we created\n",
        "len(docs)\n"
      ],
      "metadata": {
        "colab": {
          "base_uri": "https://localhost:8080/"
        },
        "id": "TsJlvRL9hUh3",
        "outputId": "987b435c-b1eb-4240-f423-773ba940da15"
      },
      "execution_count": 30,
      "outputs": [
        {
          "output_type": "execute_result",
          "data": {
            "text/plain": [
              "57"
            ]
          },
          "metadata": {},
          "execution_count": 30
        }
      ]
    },
    {
      "cell_type": "markdown",
      "source": [
        "Because we have a special requset for the LLM on our data, I want to make custom prompts. This will allow me to tinker with what data the LLM pulls out. I'll use Langchain's load_summarize_chain with custom prompts to do this. We aren't making a summary, but rather just using load_summarize_chain for its easy mapreduce functionality.\n",
        "\n",
        "First let's make our custom map prompt. This is where we'll instruction the LLM that it will pull out interview questoins and what makes a good question.\n",
        "\n"
      ],
      "metadata": {
        "id": "ozkUFaU-hYne"
      }
    },
    {
      "cell_type": "code",
      "source": [
        "map_prompt = \"\"\"You are a helpful AI bot that aids a user in research.\n",
        "Below is information about a person named {persons_name}.\n",
        "Information will include tweets, interview transcripts, and blog posts about {persons_name}\n",
        "Your goal is to generate interview questions that we can ask {persons_name}\n",
        "Use specifics from the research when possible\n",
        "\n",
        "% START OF INFORMATION ABOUT {persons_name}:\n",
        "{text}\n",
        "% END OF INFORMATION ABOUT {persons_name}:\n",
        "\n",
        "Please respond with list of a few interview questions based on the topics above\n",
        "\n",
        "YOUR RESPONSE:\"\"\"\n",
        "map_prompt_template = PromptTemplate(template=map_prompt, input_variables=[\"text\", \"persons_name\"])\n"
      ],
      "metadata": {
        "id": "YgqpEMkQhfbX"
      },
      "execution_count": 31,
      "outputs": []
    },
    {
      "cell_type": "markdown",
      "source": [
        "Then we'll make our custom combine promopt. This is the set of instructions that we'll LLM on how to handle the list of questions that is returned in the first step above.\n",
        "\n"
      ],
      "metadata": {
        "id": "VyiACY4Qhkje"
      }
    },
    {
      "cell_type": "code",
      "source": [
        "combine_prompt = \"\"\"\n",
        "You are a helpful AI bot that aids a user in research.\n",
        "You will be given a list of potential interview questions that we can ask {persons_name}.\n",
        "\n",
        "Please consolidate the questions and return a list\n",
        "\n",
        "% INTERVIEW QUESTIONS\n",
        "{text}\n",
        "\"\"\"\n",
        "combine_prompt_template = PromptTemplate(template=combine_prompt, input_variables=[\"text\", \"persons_name\"])\n"
      ],
      "metadata": {
        "id": "64MntVZ3hlMN"
      },
      "execution_count": 32,
      "outputs": []
    },
    {
      "cell_type": "markdown",
      "source": [
        "Let's create our LLM and chain. I'm increasing the color a bit for more creative language. If you notice that your questions have hallucinations in them, turn temperature to 0\n",
        "\n"
      ],
      "metadata": {
        "id": "Vw4ZItEfhnOj"
      }
    },
    {
      "cell_type": "code",
      "source": [
        "chain = load_summarize_chain(llm,\n",
        "                             chain_type=\"map_reduce\",\n",
        "                             map_prompt=map_prompt_template,\n",
        "                             combine_prompt=combine_prompt_template,\n",
        "#                              verbose=True\n",
        "                            )"
      ],
      "metadata": {
        "id": "-od2FZ3Ohown"
      },
      "execution_count": 33,
      "outputs": []
    },
    {
      "cell_type": "code",
      "source": [
        "output = chain({\"input_documents\": docs, # The seven docs that were created before\n",
        "                \"persons_name\": \"Elad Gil\"\n",
        "               })\n"
      ],
      "metadata": {
        "colab": {
          "base_uri": "https://localhost:8080/",
          "height": 182,
          "referenced_widgets": [
            "d1af6e54859e413196aee0a9f514543f",
            "6001a0ebca7843d2999d3d1660ebdece",
            "2615ec8d5f524a5c88f6c0a72eff97f6",
            "21d45022fbca4231b26667451deb416a",
            "3da87a03686742548298908edd1524a8",
            "fc876f711f18455e8d9ab42c152c557e",
            "0b5f0fd79e6e4ccca0c3e7fc8cf80249",
            "ebbc496cbb5242e69b8bcb71e812e3d1",
            "707b26414c684ff4b4fff2f09efaa582",
            "60c83ca996b943d2b3c58ec5e074b10a",
            "6bd93d3e7ee2490cade3775c6e98b70f",
            "4ef15c682b2e47dcbbe0e4d86e599912",
            "e94ecd4241914b2686b625d5e1df9ddd",
            "2f7d91c9d18341faabbfce9b3f43148d",
            "4422d044950f454ca26ad088ed4dfdf7",
            "4f884795779e45389da670416be05548",
            "de898dfefc4f4519ae6853362361fba2",
            "ad4de74fc2ac4a14909d74f77411ce58",
            "1e006d0c249846c0a9aee50cf5ca7bf2",
            "ffdfdf8d2c4d4e90a6b53ad38d10d542",
            "217b189f80784117a97708ed2b9745b9",
            "110025266689406fb9c3f92a07305ff2",
            "8af18b0081614c59b887826158a8e372",
            "52afe5d856e4407cb1a570d7e11bab32",
            "d38b6c371bd44aefa0c18c8ce9d50287",
            "8101233d77224819a707023aecf0dacc",
            "1d92f2c807fe42b3b3fe92cdda8df1d3",
            "2204b579cf944abfb101b3e16b30125d",
            "ea69bbec9526446c99c0ed980a918681",
            "a614f90dabbe46e6b21f6907e6ceb2d4",
            "6b40c28d21e34399802cf6445e4c7c7c",
            "ae03c55836574aed9c4ea84d558694fd",
            "973e6ffe424f4796b9e3a82ff7f6293e",
            "c68540b0d01949eb86985f3de2f56b6b",
            "2b147c1bd1404225a8eff6ae3ce047e7",
            "6af1c708b2284a888960d71aebedf04b",
            "7bd11962fa4241ff8604837ef0dc6f20",
            "f7dfdebfc38942fea6c2230d550dd61e",
            "9c6286b0bb38426695153d604aedf38a",
            "7d20fd558b334abf88d4fc73063a098a",
            "6f2209fd0e754efca23da173efc3d830",
            "d4639ded36fd4a8290ff144d2aa2df4d",
            "3999e8c7bc7d4c85ac987fe3447aa94a",
            "7835c2880d224f7da474eba80b696ab4"
          ]
        },
        "id": "S7X5wojGhtLa",
        "outputId": "c91cb073-5fb6-4a2e-f6d9-18bce3aab421"
      },
      "execution_count": 34,
      "outputs": [
        {
          "output_type": "display_data",
          "data": {
            "text/plain": [
              "vocab.json:   0%|          | 0.00/1.04M [00:00<?, ?B/s]"
            ],
            "application/vnd.jupyter.widget-view+json": {
              "version_major": 2,
              "version_minor": 0,
              "model_id": "d1af6e54859e413196aee0a9f514543f"
            }
          },
          "metadata": {}
        },
        {
          "output_type": "display_data",
          "data": {
            "text/plain": [
              "merges.txt:   0%|          | 0.00/456k [00:00<?, ?B/s]"
            ],
            "application/vnd.jupyter.widget-view+json": {
              "version_major": 2,
              "version_minor": 0,
              "model_id": "4ef15c682b2e47dcbbe0e4d86e599912"
            }
          },
          "metadata": {}
        },
        {
          "output_type": "display_data",
          "data": {
            "text/plain": [
              "tokenizer.json:   0%|          | 0.00/1.36M [00:00<?, ?B/s]"
            ],
            "application/vnd.jupyter.widget-view+json": {
              "version_major": 2,
              "version_minor": 0,
              "model_id": "8af18b0081614c59b887826158a8e372"
            }
          },
          "metadata": {}
        },
        {
          "output_type": "display_data",
          "data": {
            "text/plain": [
              "config.json:   0%|          | 0.00/665 [00:00<?, ?B/s]"
            ],
            "application/vnd.jupyter.widget-view+json": {
              "version_major": 2,
              "version_minor": 0,
              "model_id": "c68540b0d01949eb86985f3de2f56b6b"
            }
          },
          "metadata": {}
        },
        {
          "output_type": "stream",
          "name": "stderr",
          "text": [
            "Token indices sequence length is longer than the specified maximum sequence length for this model (10242 > 1024). Running this sequence through the model will result in indexing errors\n"
          ]
        }
      ]
    },
    {
      "cell_type": "code",
      "source": [
        "print (output['output_text'])\n"
      ],
      "metadata": {
        "colab": {
          "base_uri": "https://localhost:8080/"
        },
        "id": "MHYf5tEYht8J",
        "outputId": "3c109bb7-b3d5-4f04-8d6b-3da8afdcfe00"
      },
      "execution_count": 35,
      "outputs": [
        {
          "output_type": "stream",
          "name": "stdout",
          "text": [
            "Consolidated list of questions:\n",
            "\n",
            "1. What are the different types of defensibility that a startup can have, and can you provide examples of companies that have successfully built defensibility?\n",
            "\n",
            "2. How can startups effectively leverage virality and stickiness to build strong network effects?\n",
            "\n",
            "3. In what circumstances can access to large sums of money lead to advantages, and can you share examples of startups that have benefited from it?\n",
            "\n",
            "4. Can you provide specific examples of companies that have successfully implemented pre-negotiated scaled pricing and how it contributed to their success?\n",
            "\n",
            "5. Why is alignment between founders and investors important, and what are some tips for effective alignment?\n",
            "\n",
            "6. Can you share instances where capital scale and access to large sums of money have created an environment for network effects or defensible positions?\n",
            "\n",
            "7. Can you provide specific examples of companies that have successfully utilized pre-negotiated scaled pricing and how it contributed to their success?\n",
            "\n",
            "8. How do scale effects impact the competitive landscape and business success?\n",
            "\n",
            "9. Can you provide examples of companies that have successfully built strong IP moats and how they protected their market positions?\n",
            "\n",
            "10. What are some practical steps that startups can take to increase speed and agility, and how can they overcome challenges associated with rapid growth?\n",
            "\n",
            "11. How can a startup effectively build a strong brand that positions it as the default choice in the market?\n",
            "\n",
            "12. Can you provide examples of IP moats, particularly in hard tech or biotech companies, and how they've been used to protect market positions?\n",
            "\n",
            "13. What forms of defensibility can startups employ to gain an advantage over incumbents and other startups?\n",
            "\n",
            "14. Why is speed important as a competitive advantage, and how can startups leverage it?\n",
            "\n",
            "15. Under what circumstances might a startup have a pricing advantage, and how can they use it effectively?\n",
            "\n",
            "16. What are some strategies for startups to gain a speed advantage over incumbents?\n",
            "\n",
            "17. Can you provide examples of startups that successfully utilized a pricing advantage to gain a foothold in the market?\n",
            "\n",
            "18. How can startups use new business models to create a higher-leverage business or achieve a competitive advantage?\n",
            "\n",
            "19. What are some key elements of developing a culture of iteration and execution for quick movement and effective customer response?\n",
            "\n",
            "20. What are some common pitfalls that startups encounter during consistent high-level execution, and how can they be avoided?\n",
            "\n",
            "21. Can you elaborate on the incentive structures in the defensetech industry and their impact on company behavior?\n",
            "\n",
            "22. Why is there a lack of fast followers in the startup world?\n",
            "\n",
            "23. What challenges do founders face in identifying what actually works versus market hype?\n",
            "\n",
            "24. How can startups balance the need for defensibility with the desire for speed and capitalizing on market opportunities?\n",
            "\n",
            "25. What are the key factors for startup defensibility, and why does it take several years to build it?\n",
            "\n",
            "26. Why do startup founders hesitate to copy or out-execute other companies?\n",
            "\n",
            "27. What are the challenges of hiring strong employees for a clone company, and how can they address perceptions of market saturation?\n",
            "\n",
            "28. What advice would you give to entrepreneurs building defensible businesses in the current market?\n",
            "\n",
            "29. How can startups achieve a balance between innovation and pragmatism in developing a defensible business?\n",
            "\n",
            "30. How can startups gain a speed advantage over incumbents while balancing innovation and pragmatism?\n",
            "\n",
            "31. Can you share examples of startups that put unique spins on existing ideas and how it led to better products?\n",
            "\n",
            "32. Why do incumbents hesitate to copy successful startup ideas?\n",
            "\n",
            "33. What challenges do clone companies face in attracting strong employees and gaining market traction?\n",
            "\n",
            "34. Can you provide examples of successful startups that started with small, niche, or toy-like ideas?\n",
            "\n",
            "35. What strategies can startups employ to compete successfully against incumbents during early stages?\n",
            "\n",
            "36. What types of startup ideas are harder to convince investors to support, and why?\n",
            "\n",
            "37. Can you share examples of startups that initially seemed small but achieved great success, changing incumbents' views?\n",
            "\n",
            "38. How have cross-bundling and cross-selling allowed incumbents like Microsoft Teams to gain share over startups like Slack?\n",
            "\n",
            "39. What strategies can startups use to compete effectively against incumbents with bundling and cross-selling advantages?\n",
            "\n",
            "40. How can startups balance innovation and disruption to gain market share while avoiding ire from large incumbents?\n",
            "\n",
            "41. What factors determine the speed of incumbent market entrants versus startups?\n",
            "\n",
            "42. Can you provide examples of startups acquired by incumbents due to market dominance and startups that successfully competed with incumbents?\n",
            "\n",
            "43. What are the key advantages of incumbents like Microsoft, Github, Notion, and Intercom in the generative AI market?\n",
            "\n",
            "44. What are the implications of the speed of incumbent entry into the generative AI market on the long-term competitive landscape?\n",
            "\n",
            "45. What strategies can startups use to mitigate the threat of incumbent competition in rapidly evolving markets like generative AI?\n",
            "\n",
            "46. What factors determine the speed of incumbent market entrants in a new market?\n",
            "\n",
            "47. Can you share examples of aggressive and slow-reacting incumbent market entrants?\n",
            "\n",
            "48. What strategies can startups use to mitigate the threat of incumbent market entrants?\n",
            "\n",
            "49. How can startups assess the competitive landscape and likelihood of incumbent entry?\n",
            "\n",
            "50. What are the differences between navel-gazing-centric, competition-centric, and user-centric companies?\n",
            "\n",
            "51. How can startups avoid over-focus on internal operations and maintain user focus?\n",
            "\n",
            "52. Can you share examples of companies that successfully navigated competition from incumbents and their strategies?\n",
            "\n",
            "53. What are the key factors determining a startup's success or failure when facing incumbent competition?\n",
            "\n",
            "54. How can startups leverage unique advantages to compete with larger, established companies?\n",
            "\n",
            "55. What is your perspective on the current state of innovation and entrepreneurship?\n",
            "\n",
            "56. How can startups balance focus on strengths/weaknesses while keeping an eye on the competition?\n",
            "\n",
            "57. How can startups avoid navel-gazing and maintain a user-centric approach?\n",
            "\n",
            "58. What are some common patterns among successful startups that disrupt incumbents?\n",
            "\n",
            "59. What key elements do venture capitalists and investors look for in potential investment opportunities?\n",
            "\n",
            "60. How can startups avoid over-focus on processes and bureaucracy that stifle innovation?\n",
            "\n",
            "61. What strategies can startups use to ensure a customer-focused approach over competitor-centric?\n",
            "\n",
            "62. How can startups balance regulation and compliance with innovation and agility?\n",
            "\n",
            "63. Can you provide examples of companies with successful user-focused approaches and the key factors contributing to their success?\n",
            "\n",
            "64. Can you share examples of companies that focused excessively on competitors and companies that failed to do so?\n",
            "\n",
            "65. Why do early-stage founders often focus on competitors, and is it a healthy mindset?\n",
            "\n",
            "66. What advice would you give to early-stage founders feeling competitive with peers?\n",
            "\n",
            "67. What are the reasons for some founders' excessive focus on competitors and their bitterness towards success?\n",
            "\n",
            "68. What are the challenges in building a user-centric company, and what are the benefits in product development, sales, and customer success?\n",
            "\n",
            "69. What strategies can challenger companies with superior customer experience and product use to overcome incumbents' dominant position?\n",
            "\n",
            "70. What recommendations would you give to founders facing intense competition, especially when competitors receive favorable press and funding?\n",
            "\n",
            "71. Can you share examples of companies that adopted a user-centric approach and achieved remarkable outcomes, highlighting key success factors?\n",
            "\n",
            "72. What are some common reasons why founder-led companies tend to fail, and how can entrepreneurs avoid these pitfalls?\n",
            "\n",
            "73. What are the key characteristics of user-centric companies, and how can businesses cultivate a customer-centric culture?\n",
            "\n",
            "74. Can you provide specific examples of companies that have successfully built defensibility through proprietary data sets, ingrained workflows, or sales moats?\n",
            "\n",
            "75. In your opinion, is it better to prioritize customer needs or defensibility when developing a new product or service? Why?\n",
            "\n",
            "76. What are some strategies that startups can use to build defensibility over time, particularly in cases where they have limited resources?\n",
            "\n",
            "77. What are three specific things that founders can do to increase the defensibility of their companies against large, established incumbents?\n",
            "\n",
            "78. How can startups foster a culture that encourages decisive actions and minimizes unnecessary delays in executing plans?\n",
            "\n",
            "79. Can you discuss some key strategies that startups can employ to build defensibility against competitors, such as creating unique value propositions, establishing network effects, or leveraging intellectual property rights?\n",
            "\n",
            "80. What are the key milestones that a startup needs to achieve to scale to a valuation of $5 billion? What are some common mistakes that founders make during this phase?\n",
            "\n",
            "81. What are some of the most common pieces of bad advice that founders receive, and how can they avoid making these mistakes?\n",
            "\n",
            "82. What are the advantages and disadvantages of having multiple CEOs or co-founders in startups?\n",
            "\n",
            "83. How can a founder raise money after pivoting their startup?\n",
            "\n",
            "84. How can startups compete with larger, more established companies?\n",
            "\n",
            "85. How will the rise of AI, particularly large language models, change the way we interact with technology and information?\n",
            "\n",
            "86. What are the potential benefits and drawbacks of Google commercializing its internal chat bot?\n",
            "\n",
            "87. What are some critical factors that should be considered when developing and deploying AI models?\n",
            "\n",
            "88. What are your thoughts on the potential for language AI to become more open and interoperable, similar to how image\n"
          ]
        }
      ]
    }
  ]
}